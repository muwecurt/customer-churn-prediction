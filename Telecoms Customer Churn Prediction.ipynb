{
 "cells": [
  {
   "cell_type": "markdown",
   "id": "3907bcf1",
   "metadata": {},
   "source": [
    "# Customer Churn Prediction"
   ]
  },
  {
   "cell_type": "markdown",
   "id": "c049be29",
   "metadata": {},
   "source": [
    "## Introduction"
   ]
  },
  {
   "cell_type": "markdown",
   "id": "4ed23cba",
   "metadata": {},
   "source": [
    "- Customer churn or attrition is the proportion of customers who stop using a company's products or services. Preventing customer churn is a key element of modern businesses because of the improved performance it offers. \n",
    "\n",
    "### Why Predict Customer Churn\n",
    "\n",
    " - Growing a company requires investment in time, effort, and money to acquire customers. Whenever a customer leaves, it represents a significant loss in investment.\n",
    "\n",
    " - According to marketing statistics, customer acquisiton costs are almost five times the retention costs. Therefore, predicting the possiblity of customers leaving and taking actions to ensure they stay, offers huge savings to a company.\n",
    "\n",
    " - Predicting churn rates helps businesses to identify operational gaps/opportunities leading to enhancement of business operations and consequently increased revenue. \n",
    "\n",
    " - Churn rate influences customer lifetime value and therefore critical in the longterm survival of any company.\n",
    "\n",
    "The benefits of predicting customer churn are many and cannot be overstated, most impactful to the company are the actions that follow.\n",
    "\n",
    "### Next step\n",
    "\n",
    "- Identifying the customers that will churn is just the first step, being strategic to identify the exact actions to implement to avoid the customer churn is the main goal. \n",
    "\n",
    "- Though the process may seem complex, it can easily be guided with in-depth data exploration and analysis.\n",
    "\n",
    "### Model Objective\n",
    "\n",
    "- The objective of this model is to identify the customers with the highest possibility of churning so as to develop better retention strategies, and to roll out operational practices that will keep customers from walking out the door.\n",
    "\n",
    "- The project builds a customer churn prediction model using data from a telecommunications company. "
   ]
  },
  {
   "cell_type": "markdown",
   "id": "ad6fb922",
   "metadata": {},
   "source": [
    "## Data Specifications"
   ]
  },
  {
   "cell_type": "markdown",
   "id": "dd853fba",
   "metadata": {},
   "source": [
    "**The data set includes information about:**\n",
    "\n",
    "- Customers who left within the last month – the column is called Churn.\n",
    "\n",
    "- Services that each customer has signed up for – phone, multiple lines, internet, online security, online backup, device protection, tech support, and streaming TV and movies.\n",
    "\n",
    "- Customer account information – how long they’ve been a customer, contract, payment method, paperless billing, monthly charges, and total charges.\n",
    "\n",
    "- Demographic info about customers – gender, age range, and if they have partners and dependents.\n",
    "\n",
    "Below is a description of the first ten attributes in the data. In total, the data has 21 attributes.\n",
    "\n",
    "1. **Customer ID** - Unique customer identification.\n",
    "2. **Gender** - Whether the customer is a male or a female.\n",
    "3. **Senior Citizen** - Whether the customer is a senior citizen or not (1, 0).\n",
    "4. **Partner** - Whether the customer has a partner or not (Yes, No).\n",
    "5. **Dependents** - Whether the customer has dependents or not (Yes, No).\n",
    "6. **Tenure** - Number of months the customer has stayed with the company.\n",
    "7. **Phone Service** - Whether the customer has a phone service or not (Yes, No).\n",
    "8. **Multiple Lines** - Whether the customer has multiple lines or not (Yes, No, No phone service).\n",
    "9. **Internet Service** - Customer’s internet service provider (DSL, Fiber optic, No).\n",
    "10. **Online Security** - Whether the customer has online security or not (Yes, No, No internet service)."
   ]
  },
  {
   "cell_type": "markdown",
   "id": "052f08c8",
   "metadata": {},
   "source": [
    "## Importing Basic Libraries"
   ]
  },
  {
   "cell_type": "code",
   "execution_count": 112,
   "id": "7536bb0a",
   "metadata": {},
   "outputs": [],
   "source": [
    "import numpy as np \n",
    "import pandas as pd\n",
    "import seaborn as sns\n",
    "import matplotlib.pyplot as plt\n",
    "import matplotlib.ticker as mtick\n",
    "sns.set(style = 'white')"
   ]
  },
  {
   "cell_type": "markdown",
   "id": "85bf9dc9",
   "metadata": {},
   "source": [
    "## Loading Data"
   ]
  },
  {
   "cell_type": "code",
   "execution_count": 38,
   "id": "33abf072",
   "metadata": {},
   "outputs": [
    {
     "data": {
      "text/html": [
       "<div>\n",
       "<style scoped>\n",
       "    .dataframe tbody tr th:only-of-type {\n",
       "        vertical-align: middle;\n",
       "    }\n",
       "\n",
       "    .dataframe tbody tr th {\n",
       "        vertical-align: top;\n",
       "    }\n",
       "\n",
       "    .dataframe thead th {\n",
       "        text-align: right;\n",
       "    }\n",
       "</style>\n",
       "<table border=\"1\" class=\"dataframe\">\n",
       "  <thead>\n",
       "    <tr style=\"text-align: right;\">\n",
       "      <th></th>\n",
       "      <th>customerID</th>\n",
       "      <th>gender</th>\n",
       "      <th>SeniorCitizen</th>\n",
       "      <th>Partner</th>\n",
       "      <th>Dependents</th>\n",
       "      <th>tenure</th>\n",
       "      <th>PhoneService</th>\n",
       "      <th>MultipleLines</th>\n",
       "      <th>InternetService</th>\n",
       "      <th>OnlineSecurity</th>\n",
       "      <th>...</th>\n",
       "      <th>DeviceProtection</th>\n",
       "      <th>TechSupport</th>\n",
       "      <th>StreamingTV</th>\n",
       "      <th>StreamingMovies</th>\n",
       "      <th>Contract</th>\n",
       "      <th>PaperlessBilling</th>\n",
       "      <th>PaymentMethod</th>\n",
       "      <th>MonthlyCharges</th>\n",
       "      <th>TotalCharges</th>\n",
       "      <th>Churn</th>\n",
       "    </tr>\n",
       "  </thead>\n",
       "  <tbody>\n",
       "    <tr>\n",
       "      <th>0</th>\n",
       "      <td>7590-VHVEG</td>\n",
       "      <td>Female</td>\n",
       "      <td>0</td>\n",
       "      <td>Yes</td>\n",
       "      <td>No</td>\n",
       "      <td>1</td>\n",
       "      <td>No</td>\n",
       "      <td>No phone service</td>\n",
       "      <td>DSL</td>\n",
       "      <td>No</td>\n",
       "      <td>...</td>\n",
       "      <td>No</td>\n",
       "      <td>No</td>\n",
       "      <td>No</td>\n",
       "      <td>No</td>\n",
       "      <td>Month-to-month</td>\n",
       "      <td>Yes</td>\n",
       "      <td>Electronic check</td>\n",
       "      <td>29.85</td>\n",
       "      <td>29.85</td>\n",
       "      <td>No</td>\n",
       "    </tr>\n",
       "    <tr>\n",
       "      <th>1</th>\n",
       "      <td>5575-GNVDE</td>\n",
       "      <td>Male</td>\n",
       "      <td>0</td>\n",
       "      <td>No</td>\n",
       "      <td>No</td>\n",
       "      <td>34</td>\n",
       "      <td>Yes</td>\n",
       "      <td>No</td>\n",
       "      <td>DSL</td>\n",
       "      <td>Yes</td>\n",
       "      <td>...</td>\n",
       "      <td>Yes</td>\n",
       "      <td>No</td>\n",
       "      <td>No</td>\n",
       "      <td>No</td>\n",
       "      <td>One year</td>\n",
       "      <td>No</td>\n",
       "      <td>Mailed check</td>\n",
       "      <td>56.95</td>\n",
       "      <td>1889.5</td>\n",
       "      <td>No</td>\n",
       "    </tr>\n",
       "    <tr>\n",
       "      <th>2</th>\n",
       "      <td>3668-QPYBK</td>\n",
       "      <td>Male</td>\n",
       "      <td>0</td>\n",
       "      <td>No</td>\n",
       "      <td>No</td>\n",
       "      <td>2</td>\n",
       "      <td>Yes</td>\n",
       "      <td>No</td>\n",
       "      <td>DSL</td>\n",
       "      <td>Yes</td>\n",
       "      <td>...</td>\n",
       "      <td>No</td>\n",
       "      <td>No</td>\n",
       "      <td>No</td>\n",
       "      <td>No</td>\n",
       "      <td>Month-to-month</td>\n",
       "      <td>Yes</td>\n",
       "      <td>Mailed check</td>\n",
       "      <td>53.85</td>\n",
       "      <td>108.15</td>\n",
       "      <td>Yes</td>\n",
       "    </tr>\n",
       "    <tr>\n",
       "      <th>3</th>\n",
       "      <td>7795-CFOCW</td>\n",
       "      <td>Male</td>\n",
       "      <td>0</td>\n",
       "      <td>No</td>\n",
       "      <td>No</td>\n",
       "      <td>45</td>\n",
       "      <td>No</td>\n",
       "      <td>No phone service</td>\n",
       "      <td>DSL</td>\n",
       "      <td>Yes</td>\n",
       "      <td>...</td>\n",
       "      <td>Yes</td>\n",
       "      <td>Yes</td>\n",
       "      <td>No</td>\n",
       "      <td>No</td>\n",
       "      <td>One year</td>\n",
       "      <td>No</td>\n",
       "      <td>Bank transfer (automatic)</td>\n",
       "      <td>42.30</td>\n",
       "      <td>1840.75</td>\n",
       "      <td>No</td>\n",
       "    </tr>\n",
       "    <tr>\n",
       "      <th>4</th>\n",
       "      <td>9237-HQITU</td>\n",
       "      <td>Female</td>\n",
       "      <td>0</td>\n",
       "      <td>No</td>\n",
       "      <td>No</td>\n",
       "      <td>2</td>\n",
       "      <td>Yes</td>\n",
       "      <td>No</td>\n",
       "      <td>Fiber optic</td>\n",
       "      <td>No</td>\n",
       "      <td>...</td>\n",
       "      <td>No</td>\n",
       "      <td>No</td>\n",
       "      <td>No</td>\n",
       "      <td>No</td>\n",
       "      <td>Month-to-month</td>\n",
       "      <td>Yes</td>\n",
       "      <td>Electronic check</td>\n",
       "      <td>70.70</td>\n",
       "      <td>151.65</td>\n",
       "      <td>Yes</td>\n",
       "    </tr>\n",
       "  </tbody>\n",
       "</table>\n",
       "<p>5 rows × 21 columns</p>\n",
       "</div>"
      ],
      "text/plain": [
       "   customerID  gender  SeniorCitizen Partner Dependents  tenure PhoneService  \\\n",
       "0  7590-VHVEG  Female              0     Yes         No       1           No   \n",
       "1  5575-GNVDE    Male              0      No         No      34          Yes   \n",
       "2  3668-QPYBK    Male              0      No         No       2          Yes   \n",
       "3  7795-CFOCW    Male              0      No         No      45           No   \n",
       "4  9237-HQITU  Female              0      No         No       2          Yes   \n",
       "\n",
       "      MultipleLines InternetService OnlineSecurity  ... DeviceProtection  \\\n",
       "0  No phone service             DSL             No  ...               No   \n",
       "1                No             DSL            Yes  ...              Yes   \n",
       "2                No             DSL            Yes  ...               No   \n",
       "3  No phone service             DSL            Yes  ...              Yes   \n",
       "4                No     Fiber optic             No  ...               No   \n",
       "\n",
       "  TechSupport StreamingTV StreamingMovies        Contract PaperlessBilling  \\\n",
       "0          No          No              No  Month-to-month              Yes   \n",
       "1          No          No              No        One year               No   \n",
       "2          No          No              No  Month-to-month              Yes   \n",
       "3         Yes          No              No        One year               No   \n",
       "4          No          No              No  Month-to-month              Yes   \n",
       "\n",
       "               PaymentMethod MonthlyCharges  TotalCharges Churn  \n",
       "0           Electronic check          29.85         29.85    No  \n",
       "1               Mailed check          56.95        1889.5    No  \n",
       "2               Mailed check          53.85        108.15   Yes  \n",
       "3  Bank transfer (automatic)          42.30       1840.75    No  \n",
       "4           Electronic check          70.70        151.65   Yes  \n",
       "\n",
       "[5 rows x 21 columns]"
      ]
     },
     "execution_count": 38,
     "metadata": {},
     "output_type": "execute_result"
    }
   ],
   "source": [
    "df = pd.read_csv('C:/Data Science Projects/Projects/Customer Churn Prediction/Telcoms-Customer-Churn.csv')\n",
    "\n",
    "df.head()"
   ]
  },
  {
   "cell_type": "code",
   "execution_count": 39,
   "id": "06fa4793",
   "metadata": {},
   "outputs": [
    {
     "name": "stdout",
     "output_type": "stream",
     "text": [
      "<class 'pandas.core.frame.DataFrame'>\n",
      "RangeIndex: 7043 entries, 0 to 7042\n",
      "Data columns (total 21 columns):\n",
      " #   Column            Non-Null Count  Dtype  \n",
      "---  ------            --------------  -----  \n",
      " 0   customerID        7043 non-null   object \n",
      " 1   gender            7043 non-null   object \n",
      " 2   SeniorCitizen     7043 non-null   int64  \n",
      " 3   Partner           7043 non-null   object \n",
      " 4   Dependents        7043 non-null   object \n",
      " 5   tenure            7043 non-null   int64  \n",
      " 6   PhoneService      7043 non-null   object \n",
      " 7   MultipleLines     7043 non-null   object \n",
      " 8   InternetService   7043 non-null   object \n",
      " 9   OnlineSecurity    7043 non-null   object \n",
      " 10  OnlineBackup      7043 non-null   object \n",
      " 11  DeviceProtection  7043 non-null   object \n",
      " 12  TechSupport       7043 non-null   object \n",
      " 13  StreamingTV       7043 non-null   object \n",
      " 14  StreamingMovies   7043 non-null   object \n",
      " 15  Contract          7043 non-null   object \n",
      " 16  PaperlessBilling  7043 non-null   object \n",
      " 17  PaymentMethod     7043 non-null   object \n",
      " 18  MonthlyCharges    7043 non-null   float64\n",
      " 19  TotalCharges      7043 non-null   object \n",
      " 20  Churn             7043 non-null   object \n",
      "dtypes: float64(1), int64(2), object(18)\n",
      "memory usage: 1.1+ MB\n"
     ]
    }
   ],
   "source": [
    "# Getting an overview of the data i.e. column names, data types, and null entries.\n",
    "\n",
    "df.info()"
   ]
  },
  {
   "cell_type": "markdown",
   "id": "99ebf885",
   "metadata": {},
   "source": [
    "**Using the above infomation, we can see discrepancies in the data type of some variables.**\n",
    "\n",
    "- For example, SeniorCitizen has values 0 or 1 but is presented as numerical (int64).\n",
    "\n",
    "- Also, TotalCharges should be numerical but it is presented as categorical.\n",
    "\n",
    "We will begin by solving the data type discrepancy problem."
   ]
  },
  {
   "cell_type": "markdown",
   "id": "d2b9908d",
   "metadata": {},
   "source": [
    "## Data Cleaning"
   ]
  },
  {
   "cell_type": "markdown",
   "id": "f1871fd2",
   "metadata": {},
   "source": [
    "### Data type checking function"
   ]
  },
  {
   "cell_type": "markdown",
   "id": "ab177100",
   "metadata": {},
   "source": [
    "*Lets create a function for identifying data type discrepancies in data.*\n",
    "\n",
    "  **function name**\n",
    "    \n",
    " > *dataType_Check(dataframe, cat_th=10)*\n",
    "        \n",
    "  **Parameters**\n",
    "    \n",
    " > *dataframe:* dataframe name\n",
    "   \n",
    " > *cat_th:* categories threshold (int, default: 10, optional)<br>\n",
    "             Highest number of unique values in a categorical column\n",
    "\n",
    "  **Returns**\n",
    "    \n",
    " > *cat_cols:* list of categorical columns\n",
    "   \n",
    " > *num_cols:* list of numerical columns\n",
    "   \n",
    " > *cat_but_num:* list of numerical columns presented as categorical\n",
    "   \n",
    " > *num_but_cat:* list of categorical columns presented as numerical                \n",
    "     \n",
    "  **Example**\n",
    "    \n",
    " > import seaborn as sns\n",
    "   \n",
    " > df = sns.load_dataset(\"iris\")\n",
    " \n",
    " > print(**dataType_Check(df)**)"
   ]
  },
  {
   "cell_type": "code",
   "execution_count": 40,
   "id": "b11d58df",
   "metadata": {},
   "outputs": [],
   "source": [
    "def dataType_Check(dataframe, cat_th=10):\n",
    "       \n",
    "    # Category columns\n",
    "    \n",
    "    cat_cols = [col for col in dataframe.columns if dataframe[col].dtypes == \"O\"]\n",
    "    \n",
    "    # Category columns labelled as Numerical\n",
    "    \n",
    "    num_but_cat = [col for col in dataframe.columns if dataframe[col].nunique() <= cat_th and\n",
    "                   dataframe[col].dtypes != \"O\"]\n",
    "    \n",
    "    # Numerical columns labelled as Categorical\n",
    "    \n",
    "    cat_but_num = [col for col in dataframe.columns if dataframe[col].nunique() > cat_th and\n",
    "                   dataframe[col].dtypes == \"O\"]\n",
    "    \n",
    "    cat_cols = [col for col in cat_cols if col not in cat_but_num]\n",
    "    \n",
    "    # Numerical columns\n",
    "    \n",
    "    num_cols = [col for col in dataframe.columns if dataframe[col].dtypes != \"O\"]\n",
    "    \n",
    "    num_cols = [col for col in num_cols if col not in num_but_cat]\n",
    "    \n",
    "     \n",
    "    # Return values\n",
    "    \n",
    "    print(f\"Total number of columns: {dataframe.shape[1]}\")\n",
    "    print(f'Number of category columns: {len(cat_cols)}')\n",
    "    print(f'Number of numerical columns: {len(num_cols)}')\n",
    "    print(f'Number of categorical_but_numerical: {len(cat_but_num)}')\n",
    "    print(f'Number of numerical_but_categorical: {len(num_but_cat)}')  \n",
    "    \n",
    "    return cat_but_num, num_but_cat, num_cols, cat_cols"
   ]
  },
  {
   "cell_type": "code",
   "execution_count": 41,
   "id": "c6067289",
   "metadata": {},
   "outputs": [
    {
     "name": "stdout",
     "output_type": "stream",
     "text": [
      "Total number of columns: 21\n",
      "Number of category columns: 16\n",
      "Number of numerical columns: 2\n",
      "Number of categorical_but_numerical: 2\n",
      "Number of numerical_but_categorical: 1\n"
     ]
    }
   ],
   "source": [
    "# Running the dataType_Check function and display only the statistics.\n",
    "\n",
    "cat_but_num, num_but_cat, num_cols, cat_cols = dataType_Check(df)"
   ]
  },
  {
   "cell_type": "markdown",
   "id": "39335d47",
   "metadata": {},
   "source": [
    "**From summary above we have 3 columns with data type issues;**\n",
    "\n",
    "- 2 columns are categorical but should be numerical\n",
    "\n",
    "- 1 column is numerical but should be categorical"
   ]
  },
  {
   "cell_type": "code",
   "execution_count": 42,
   "id": "4c8a1982",
   "metadata": {},
   "outputs": [
    {
     "data": {
      "text/plain": [
       "['customerID', 'TotalCharges']"
      ]
     },
     "execution_count": 42,
     "metadata": {},
     "output_type": "execute_result"
    }
   ],
   "source": [
    "## Lets identify the 2 columns that are categorical but should be numerical.\n",
    "\n",
    "cat_but_num"
   ]
  },
  {
   "cell_type": "code",
   "execution_count": 43,
   "id": "5e60cc7b",
   "metadata": {},
   "outputs": [
    {
     "data": {
      "text/plain": [
       "['SeniorCitizen']"
      ]
     },
     "execution_count": 43,
     "metadata": {},
     "output_type": "execute_result"
    }
   ],
   "source": [
    "# Also, lets identify the 1 column that is numerical but should be categorical.\n",
    "\n",
    "num_but_cat"
   ]
  },
  {
   "cell_type": "markdown",
   "id": "f682e2d2",
   "metadata": {},
   "source": [
    "### Handling data type discrepancies"
   ]
  },
  {
   "cell_type": "markdown",
   "id": "b5ceb390",
   "metadata": {},
   "source": [
    "*From results above we can see that;*\n",
    "\n",
    "- customerID and TotalCharges are categorical but should be numerical.\n",
    "\n",
    "  - customerID is a combination of numbers and letters so it should remain as a string.\n",
    "\n",
    "- SeniorCitizen is numeric but should be categorical."
   ]
  },
  {
   "cell_type": "code",
   "execution_count": 44,
   "id": "30779959",
   "metadata": {},
   "outputs": [
    {
     "name": "stdout",
     "output_type": "stream",
     "text": [
      "<class 'pandas.core.frame.DataFrame'>\n",
      "RangeIndex: 7043 entries, 0 to 7042\n",
      "Data columns (total 21 columns):\n",
      " #   Column            Non-Null Count  Dtype  \n",
      "---  ------            --------------  -----  \n",
      " 0   customerID        7043 non-null   object \n",
      " 1   gender            7043 non-null   object \n",
      " 2   SeniorCitizen     7043 non-null   object \n",
      " 3   Partner           7043 non-null   object \n",
      " 4   Dependents        7043 non-null   object \n",
      " 5   tenure            7043 non-null   int64  \n",
      " 6   PhoneService      7043 non-null   object \n",
      " 7   MultipleLines     7043 non-null   object \n",
      " 8   InternetService   7043 non-null   object \n",
      " 9   OnlineSecurity    7043 non-null   object \n",
      " 10  OnlineBackup      7043 non-null   object \n",
      " 11  DeviceProtection  7043 non-null   object \n",
      " 12  TechSupport       7043 non-null   object \n",
      " 13  StreamingTV       7043 non-null   object \n",
      " 14  StreamingMovies   7043 non-null   object \n",
      " 15  Contract          7043 non-null   object \n",
      " 16  PaperlessBilling  7043 non-null   object \n",
      " 17  PaymentMethod     7043 non-null   object \n",
      " 18  MonthlyCharges    7043 non-null   float64\n",
      " 19  TotalCharges      7032 non-null   float64\n",
      " 20  Churn             7043 non-null   object \n",
      "dtypes: float64(2), int64(1), object(18)\n",
      "memory usage: 1.1+ MB\n"
     ]
    }
   ],
   "source": [
    "# Converting TotalCharges from Categorical to Numerical\n",
    "\n",
    "df.TotalCharges = pd.to_numeric(df.TotalCharges, errors='coerce')\n",
    "\n",
    "# Converting SeniorCitizen from numeric to string\n",
    "\n",
    "df['SeniorCitizen'] = df['SeniorCitizen'].astype(str)\n",
    "\n",
    "# Confirming the data type changes\n",
    "df.info()"
   ]
  },
  {
   "cell_type": "markdown",
   "id": "de3d70c8",
   "metadata": {},
   "source": [
    "**From summary above we confirm that;**\n",
    "\n",
    "- SeniorCitizen is now a categorical feature\n",
    "\n",
    "- TotalCharges is a numerical (float64) feature\n",
    "\n",
    "- Besides, we notice some **null values in TotalCharges** feature"
   ]
  },
  {
   "cell_type": "code",
   "execution_count": 45,
   "id": "33ab821f",
   "metadata": {},
   "outputs": [
    {
     "data": {
      "text/plain": [
       "customerID           0\n",
       "gender               0\n",
       "SeniorCitizen        0\n",
       "Partner              0\n",
       "Dependents           0\n",
       "tenure               0\n",
       "PhoneService         0\n",
       "MultipleLines        0\n",
       "InternetService      0\n",
       "OnlineSecurity       0\n",
       "OnlineBackup         0\n",
       "DeviceProtection     0\n",
       "TechSupport          0\n",
       "StreamingTV          0\n",
       "StreamingMovies      0\n",
       "Contract             0\n",
       "PaperlessBilling     0\n",
       "PaymentMethod        0\n",
       "MonthlyCharges       0\n",
       "TotalCharges        11\n",
       "Churn                0\n",
       "dtype: int64"
      ]
     },
     "execution_count": 45,
     "metadata": {},
     "output_type": "execute_result"
    }
   ],
   "source": [
    "# Let's confirm the actual number of null values in all features\n",
    "\n",
    "df.isnull().sum()"
   ]
  },
  {
   "cell_type": "markdown",
   "id": "15c5f56e",
   "metadata": {},
   "source": [
    "**Only TotalCharges with null values**"
   ]
  },
  {
   "cell_type": "code",
   "execution_count": 46,
   "id": "ae8adcaa",
   "metadata": {},
   "outputs": [
    {
     "data": {
      "text/html": [
       "<div>\n",
       "<style scoped>\n",
       "    .dataframe tbody tr th:only-of-type {\n",
       "        vertical-align: middle;\n",
       "    }\n",
       "\n",
       "    .dataframe tbody tr th {\n",
       "        vertical-align: top;\n",
       "    }\n",
       "\n",
       "    .dataframe thead th {\n",
       "        text-align: right;\n",
       "    }\n",
       "</style>\n",
       "<table border=\"1\" class=\"dataframe\">\n",
       "  <thead>\n",
       "    <tr style=\"text-align: right;\">\n",
       "      <th></th>\n",
       "      <th>customerID</th>\n",
       "      <th>gender</th>\n",
       "      <th>SeniorCitizen</th>\n",
       "      <th>Partner</th>\n",
       "      <th>Dependents</th>\n",
       "      <th>tenure</th>\n",
       "      <th>PhoneService</th>\n",
       "      <th>MultipleLines</th>\n",
       "      <th>InternetService</th>\n",
       "      <th>OnlineSecurity</th>\n",
       "      <th>...</th>\n",
       "      <th>DeviceProtection</th>\n",
       "      <th>TechSupport</th>\n",
       "      <th>StreamingTV</th>\n",
       "      <th>StreamingMovies</th>\n",
       "      <th>Contract</th>\n",
       "      <th>PaperlessBilling</th>\n",
       "      <th>PaymentMethod</th>\n",
       "      <th>MonthlyCharges</th>\n",
       "      <th>TotalCharges</th>\n",
       "      <th>Churn</th>\n",
       "    </tr>\n",
       "  </thead>\n",
       "  <tbody>\n",
       "    <tr>\n",
       "      <th>488</th>\n",
       "      <td>4472-LVYGI</td>\n",
       "      <td>Female</td>\n",
       "      <td>0</td>\n",
       "      <td>Yes</td>\n",
       "      <td>Yes</td>\n",
       "      <td>0</td>\n",
       "      <td>No</td>\n",
       "      <td>No phone service</td>\n",
       "      <td>DSL</td>\n",
       "      <td>Yes</td>\n",
       "      <td>...</td>\n",
       "      <td>Yes</td>\n",
       "      <td>Yes</td>\n",
       "      <td>Yes</td>\n",
       "      <td>No</td>\n",
       "      <td>Two year</td>\n",
       "      <td>Yes</td>\n",
       "      <td>Bank transfer (automatic)</td>\n",
       "      <td>52.55</td>\n",
       "      <td>NaN</td>\n",
       "      <td>No</td>\n",
       "    </tr>\n",
       "    <tr>\n",
       "      <th>753</th>\n",
       "      <td>3115-CZMZD</td>\n",
       "      <td>Male</td>\n",
       "      <td>0</td>\n",
       "      <td>No</td>\n",
       "      <td>Yes</td>\n",
       "      <td>0</td>\n",
       "      <td>Yes</td>\n",
       "      <td>No</td>\n",
       "      <td>No</td>\n",
       "      <td>No internet service</td>\n",
       "      <td>...</td>\n",
       "      <td>No internet service</td>\n",
       "      <td>No internet service</td>\n",
       "      <td>No internet service</td>\n",
       "      <td>No internet service</td>\n",
       "      <td>Two year</td>\n",
       "      <td>No</td>\n",
       "      <td>Mailed check</td>\n",
       "      <td>20.25</td>\n",
       "      <td>NaN</td>\n",
       "      <td>No</td>\n",
       "    </tr>\n",
       "    <tr>\n",
       "      <th>936</th>\n",
       "      <td>5709-LVOEQ</td>\n",
       "      <td>Female</td>\n",
       "      <td>0</td>\n",
       "      <td>Yes</td>\n",
       "      <td>Yes</td>\n",
       "      <td>0</td>\n",
       "      <td>Yes</td>\n",
       "      <td>No</td>\n",
       "      <td>DSL</td>\n",
       "      <td>Yes</td>\n",
       "      <td>...</td>\n",
       "      <td>Yes</td>\n",
       "      <td>No</td>\n",
       "      <td>Yes</td>\n",
       "      <td>Yes</td>\n",
       "      <td>Two year</td>\n",
       "      <td>No</td>\n",
       "      <td>Mailed check</td>\n",
       "      <td>80.85</td>\n",
       "      <td>NaN</td>\n",
       "      <td>No</td>\n",
       "    </tr>\n",
       "    <tr>\n",
       "      <th>1082</th>\n",
       "      <td>4367-NUYAO</td>\n",
       "      <td>Male</td>\n",
       "      <td>0</td>\n",
       "      <td>Yes</td>\n",
       "      <td>Yes</td>\n",
       "      <td>0</td>\n",
       "      <td>Yes</td>\n",
       "      <td>Yes</td>\n",
       "      <td>No</td>\n",
       "      <td>No internet service</td>\n",
       "      <td>...</td>\n",
       "      <td>No internet service</td>\n",
       "      <td>No internet service</td>\n",
       "      <td>No internet service</td>\n",
       "      <td>No internet service</td>\n",
       "      <td>Two year</td>\n",
       "      <td>No</td>\n",
       "      <td>Mailed check</td>\n",
       "      <td>25.75</td>\n",
       "      <td>NaN</td>\n",
       "      <td>No</td>\n",
       "    </tr>\n",
       "    <tr>\n",
       "      <th>1340</th>\n",
       "      <td>1371-DWPAZ</td>\n",
       "      <td>Female</td>\n",
       "      <td>0</td>\n",
       "      <td>Yes</td>\n",
       "      <td>Yes</td>\n",
       "      <td>0</td>\n",
       "      <td>No</td>\n",
       "      <td>No phone service</td>\n",
       "      <td>DSL</td>\n",
       "      <td>Yes</td>\n",
       "      <td>...</td>\n",
       "      <td>Yes</td>\n",
       "      <td>Yes</td>\n",
       "      <td>Yes</td>\n",
       "      <td>No</td>\n",
       "      <td>Two year</td>\n",
       "      <td>No</td>\n",
       "      <td>Credit card (automatic)</td>\n",
       "      <td>56.05</td>\n",
       "      <td>NaN</td>\n",
       "      <td>No</td>\n",
       "    </tr>\n",
       "    <tr>\n",
       "      <th>3331</th>\n",
       "      <td>7644-OMVMY</td>\n",
       "      <td>Male</td>\n",
       "      <td>0</td>\n",
       "      <td>Yes</td>\n",
       "      <td>Yes</td>\n",
       "      <td>0</td>\n",
       "      <td>Yes</td>\n",
       "      <td>No</td>\n",
       "      <td>No</td>\n",
       "      <td>No internet service</td>\n",
       "      <td>...</td>\n",
       "      <td>No internet service</td>\n",
       "      <td>No internet service</td>\n",
       "      <td>No internet service</td>\n",
       "      <td>No internet service</td>\n",
       "      <td>Two year</td>\n",
       "      <td>No</td>\n",
       "      <td>Mailed check</td>\n",
       "      <td>19.85</td>\n",
       "      <td>NaN</td>\n",
       "      <td>No</td>\n",
       "    </tr>\n",
       "    <tr>\n",
       "      <th>3826</th>\n",
       "      <td>3213-VVOLG</td>\n",
       "      <td>Male</td>\n",
       "      <td>0</td>\n",
       "      <td>Yes</td>\n",
       "      <td>Yes</td>\n",
       "      <td>0</td>\n",
       "      <td>Yes</td>\n",
       "      <td>Yes</td>\n",
       "      <td>No</td>\n",
       "      <td>No internet service</td>\n",
       "      <td>...</td>\n",
       "      <td>No internet service</td>\n",
       "      <td>No internet service</td>\n",
       "      <td>No internet service</td>\n",
       "      <td>No internet service</td>\n",
       "      <td>Two year</td>\n",
       "      <td>No</td>\n",
       "      <td>Mailed check</td>\n",
       "      <td>25.35</td>\n",
       "      <td>NaN</td>\n",
       "      <td>No</td>\n",
       "    </tr>\n",
       "    <tr>\n",
       "      <th>4380</th>\n",
       "      <td>2520-SGTTA</td>\n",
       "      <td>Female</td>\n",
       "      <td>0</td>\n",
       "      <td>Yes</td>\n",
       "      <td>Yes</td>\n",
       "      <td>0</td>\n",
       "      <td>Yes</td>\n",
       "      <td>No</td>\n",
       "      <td>No</td>\n",
       "      <td>No internet service</td>\n",
       "      <td>...</td>\n",
       "      <td>No internet service</td>\n",
       "      <td>No internet service</td>\n",
       "      <td>No internet service</td>\n",
       "      <td>No internet service</td>\n",
       "      <td>Two year</td>\n",
       "      <td>No</td>\n",
       "      <td>Mailed check</td>\n",
       "      <td>20.00</td>\n",
       "      <td>NaN</td>\n",
       "      <td>No</td>\n",
       "    </tr>\n",
       "    <tr>\n",
       "      <th>5218</th>\n",
       "      <td>2923-ARZLG</td>\n",
       "      <td>Male</td>\n",
       "      <td>0</td>\n",
       "      <td>Yes</td>\n",
       "      <td>Yes</td>\n",
       "      <td>0</td>\n",
       "      <td>Yes</td>\n",
       "      <td>No</td>\n",
       "      <td>No</td>\n",
       "      <td>No internet service</td>\n",
       "      <td>...</td>\n",
       "      <td>No internet service</td>\n",
       "      <td>No internet service</td>\n",
       "      <td>No internet service</td>\n",
       "      <td>No internet service</td>\n",
       "      <td>One year</td>\n",
       "      <td>Yes</td>\n",
       "      <td>Mailed check</td>\n",
       "      <td>19.70</td>\n",
       "      <td>NaN</td>\n",
       "      <td>No</td>\n",
       "    </tr>\n",
       "    <tr>\n",
       "      <th>6670</th>\n",
       "      <td>4075-WKNIU</td>\n",
       "      <td>Female</td>\n",
       "      <td>0</td>\n",
       "      <td>Yes</td>\n",
       "      <td>Yes</td>\n",
       "      <td>0</td>\n",
       "      <td>Yes</td>\n",
       "      <td>Yes</td>\n",
       "      <td>DSL</td>\n",
       "      <td>No</td>\n",
       "      <td>...</td>\n",
       "      <td>Yes</td>\n",
       "      <td>Yes</td>\n",
       "      <td>Yes</td>\n",
       "      <td>No</td>\n",
       "      <td>Two year</td>\n",
       "      <td>No</td>\n",
       "      <td>Mailed check</td>\n",
       "      <td>73.35</td>\n",
       "      <td>NaN</td>\n",
       "      <td>No</td>\n",
       "    </tr>\n",
       "    <tr>\n",
       "      <th>6754</th>\n",
       "      <td>2775-SEFEE</td>\n",
       "      <td>Male</td>\n",
       "      <td>0</td>\n",
       "      <td>No</td>\n",
       "      <td>Yes</td>\n",
       "      <td>0</td>\n",
       "      <td>Yes</td>\n",
       "      <td>Yes</td>\n",
       "      <td>DSL</td>\n",
       "      <td>Yes</td>\n",
       "      <td>...</td>\n",
       "      <td>No</td>\n",
       "      <td>Yes</td>\n",
       "      <td>No</td>\n",
       "      <td>No</td>\n",
       "      <td>Two year</td>\n",
       "      <td>Yes</td>\n",
       "      <td>Bank transfer (automatic)</td>\n",
       "      <td>61.90</td>\n",
       "      <td>NaN</td>\n",
       "      <td>No</td>\n",
       "    </tr>\n",
       "  </tbody>\n",
       "</table>\n",
       "<p>11 rows × 21 columns</p>\n",
       "</div>"
      ],
      "text/plain": [
       "      customerID  gender SeniorCitizen Partner Dependents  tenure  \\\n",
       "488   4472-LVYGI  Female             0     Yes        Yes       0   \n",
       "753   3115-CZMZD    Male             0      No        Yes       0   \n",
       "936   5709-LVOEQ  Female             0     Yes        Yes       0   \n",
       "1082  4367-NUYAO    Male             0     Yes        Yes       0   \n",
       "1340  1371-DWPAZ  Female             0     Yes        Yes       0   \n",
       "3331  7644-OMVMY    Male             0     Yes        Yes       0   \n",
       "3826  3213-VVOLG    Male             0     Yes        Yes       0   \n",
       "4380  2520-SGTTA  Female             0     Yes        Yes       0   \n",
       "5218  2923-ARZLG    Male             0     Yes        Yes       0   \n",
       "6670  4075-WKNIU  Female             0     Yes        Yes       0   \n",
       "6754  2775-SEFEE    Male             0      No        Yes       0   \n",
       "\n",
       "     PhoneService     MultipleLines InternetService       OnlineSecurity  ...  \\\n",
       "488            No  No phone service             DSL                  Yes  ...   \n",
       "753           Yes                No              No  No internet service  ...   \n",
       "936           Yes                No             DSL                  Yes  ...   \n",
       "1082          Yes               Yes              No  No internet service  ...   \n",
       "1340           No  No phone service             DSL                  Yes  ...   \n",
       "3331          Yes                No              No  No internet service  ...   \n",
       "3826          Yes               Yes              No  No internet service  ...   \n",
       "4380          Yes                No              No  No internet service  ...   \n",
       "5218          Yes                No              No  No internet service  ...   \n",
       "6670          Yes               Yes             DSL                   No  ...   \n",
       "6754          Yes               Yes             DSL                  Yes  ...   \n",
       "\n",
       "         DeviceProtection          TechSupport          StreamingTV  \\\n",
       "488                   Yes                  Yes                  Yes   \n",
       "753   No internet service  No internet service  No internet service   \n",
       "936                   Yes                   No                  Yes   \n",
       "1082  No internet service  No internet service  No internet service   \n",
       "1340                  Yes                  Yes                  Yes   \n",
       "3331  No internet service  No internet service  No internet service   \n",
       "3826  No internet service  No internet service  No internet service   \n",
       "4380  No internet service  No internet service  No internet service   \n",
       "5218  No internet service  No internet service  No internet service   \n",
       "6670                  Yes                  Yes                  Yes   \n",
       "6754                   No                  Yes                   No   \n",
       "\n",
       "          StreamingMovies  Contract PaperlessBilling  \\\n",
       "488                    No  Two year              Yes   \n",
       "753   No internet service  Two year               No   \n",
       "936                   Yes  Two year               No   \n",
       "1082  No internet service  Two year               No   \n",
       "1340                   No  Two year               No   \n",
       "3331  No internet service  Two year               No   \n",
       "3826  No internet service  Two year               No   \n",
       "4380  No internet service  Two year               No   \n",
       "5218  No internet service  One year              Yes   \n",
       "6670                   No  Two year               No   \n",
       "6754                   No  Two year              Yes   \n",
       "\n",
       "                  PaymentMethod MonthlyCharges  TotalCharges  Churn  \n",
       "488   Bank transfer (automatic)          52.55           NaN     No  \n",
       "753                Mailed check          20.25           NaN     No  \n",
       "936                Mailed check          80.85           NaN     No  \n",
       "1082               Mailed check          25.75           NaN     No  \n",
       "1340    Credit card (automatic)          56.05           NaN     No  \n",
       "3331               Mailed check          19.85           NaN     No  \n",
       "3826               Mailed check          25.35           NaN     No  \n",
       "4380               Mailed check          20.00           NaN     No  \n",
       "5218               Mailed check          19.70           NaN     No  \n",
       "6670               Mailed check          73.35           NaN     No  \n",
       "6754  Bank transfer (automatic)          61.90           NaN     No  \n",
       "\n",
       "[11 rows x 21 columns]"
      ]
     },
     "execution_count": 46,
     "metadata": {},
     "output_type": "execute_result"
    }
   ],
   "source": [
    "# Lets explore the rows with null values to try find best way to handle them\n",
    "\n",
    "df_null_rows = df[df['TotalCharges'].isnull()]\n",
    "\n",
    "df_null_rows"
   ]
  },
  {
   "cell_type": "markdown",
   "id": "339e1014",
   "metadata": {},
   "source": [
    "**From table above, we notice that;**\n",
    "\n",
    "- All the rows have a tenure period of zero (0) months, newly recruited customers.\n",
    "\n",
    "- Therefore, their TotalCharges should correspond to their MonthlyCharges."
   ]
  },
  {
   "cell_type": "code",
   "execution_count": 47,
   "id": "c14518ac",
   "metadata": {},
   "outputs": [
    {
     "data": {
      "text/plain": [
       "0"
      ]
     },
     "execution_count": 47,
     "metadata": {},
     "output_type": "execute_result"
    }
   ],
   "source": [
    "# Lets replace NaN with MonthlyCharges values\n",
    "\n",
    "df['TotalCharges'] = df['TotalCharges'].fillna(df['MonthlyCharges'])\n",
    "\n",
    "# Sum null values in TotalCharges to confirm they have been replaced \n",
    "\n",
    "df['TotalCharges'].isnull().sum()"
   ]
  },
  {
   "cell_type": "code",
   "execution_count": 48,
   "id": "373c6ffd",
   "metadata": {},
   "outputs": [
    {
     "data": {
      "text/html": [
       "<div>\n",
       "<style scoped>\n",
       "    .dataframe tbody tr th:only-of-type {\n",
       "        vertical-align: middle;\n",
       "    }\n",
       "\n",
       "    .dataframe tbody tr th {\n",
       "        vertical-align: top;\n",
       "    }\n",
       "\n",
       "    .dataframe thead th {\n",
       "        text-align: right;\n",
       "    }\n",
       "</style>\n",
       "<table border=\"1\" class=\"dataframe\">\n",
       "  <thead>\n",
       "    <tr style=\"text-align: right;\">\n",
       "      <th></th>\n",
       "      <th>customerID</th>\n",
       "      <th>gender</th>\n",
       "      <th>SeniorCitizen</th>\n",
       "      <th>Partner</th>\n",
       "      <th>Dependents</th>\n",
       "      <th>tenure</th>\n",
       "      <th>PhoneService</th>\n",
       "      <th>MultipleLines</th>\n",
       "      <th>InternetService</th>\n",
       "      <th>OnlineSecurity</th>\n",
       "      <th>...</th>\n",
       "      <th>DeviceProtection</th>\n",
       "      <th>TechSupport</th>\n",
       "      <th>StreamingTV</th>\n",
       "      <th>StreamingMovies</th>\n",
       "      <th>Contract</th>\n",
       "      <th>PaperlessBilling</th>\n",
       "      <th>PaymentMethod</th>\n",
       "      <th>MonthlyCharges</th>\n",
       "      <th>TotalCharges</th>\n",
       "      <th>Churn</th>\n",
       "    </tr>\n",
       "  </thead>\n",
       "  <tbody>\n",
       "    <tr>\n",
       "      <th>488</th>\n",
       "      <td>4472-LVYGI</td>\n",
       "      <td>Female</td>\n",
       "      <td>0</td>\n",
       "      <td>Yes</td>\n",
       "      <td>Yes</td>\n",
       "      <td>0</td>\n",
       "      <td>No</td>\n",
       "      <td>No phone service</td>\n",
       "      <td>DSL</td>\n",
       "      <td>Yes</td>\n",
       "      <td>...</td>\n",
       "      <td>Yes</td>\n",
       "      <td>Yes</td>\n",
       "      <td>Yes</td>\n",
       "      <td>No</td>\n",
       "      <td>Two year</td>\n",
       "      <td>Yes</td>\n",
       "      <td>Bank transfer (automatic)</td>\n",
       "      <td>52.55</td>\n",
       "      <td>52.55</td>\n",
       "      <td>No</td>\n",
       "    </tr>\n",
       "    <tr>\n",
       "      <th>753</th>\n",
       "      <td>3115-CZMZD</td>\n",
       "      <td>Male</td>\n",
       "      <td>0</td>\n",
       "      <td>No</td>\n",
       "      <td>Yes</td>\n",
       "      <td>0</td>\n",
       "      <td>Yes</td>\n",
       "      <td>No</td>\n",
       "      <td>No</td>\n",
       "      <td>No internet service</td>\n",
       "      <td>...</td>\n",
       "      <td>No internet service</td>\n",
       "      <td>No internet service</td>\n",
       "      <td>No internet service</td>\n",
       "      <td>No internet service</td>\n",
       "      <td>Two year</td>\n",
       "      <td>No</td>\n",
       "      <td>Mailed check</td>\n",
       "      <td>20.25</td>\n",
       "      <td>20.25</td>\n",
       "      <td>No</td>\n",
       "    </tr>\n",
       "    <tr>\n",
       "      <th>936</th>\n",
       "      <td>5709-LVOEQ</td>\n",
       "      <td>Female</td>\n",
       "      <td>0</td>\n",
       "      <td>Yes</td>\n",
       "      <td>Yes</td>\n",
       "      <td>0</td>\n",
       "      <td>Yes</td>\n",
       "      <td>No</td>\n",
       "      <td>DSL</td>\n",
       "      <td>Yes</td>\n",
       "      <td>...</td>\n",
       "      <td>Yes</td>\n",
       "      <td>No</td>\n",
       "      <td>Yes</td>\n",
       "      <td>Yes</td>\n",
       "      <td>Two year</td>\n",
       "      <td>No</td>\n",
       "      <td>Mailed check</td>\n",
       "      <td>80.85</td>\n",
       "      <td>80.85</td>\n",
       "      <td>No</td>\n",
       "    </tr>\n",
       "    <tr>\n",
       "      <th>1082</th>\n",
       "      <td>4367-NUYAO</td>\n",
       "      <td>Male</td>\n",
       "      <td>0</td>\n",
       "      <td>Yes</td>\n",
       "      <td>Yes</td>\n",
       "      <td>0</td>\n",
       "      <td>Yes</td>\n",
       "      <td>Yes</td>\n",
       "      <td>No</td>\n",
       "      <td>No internet service</td>\n",
       "      <td>...</td>\n",
       "      <td>No internet service</td>\n",
       "      <td>No internet service</td>\n",
       "      <td>No internet service</td>\n",
       "      <td>No internet service</td>\n",
       "      <td>Two year</td>\n",
       "      <td>No</td>\n",
       "      <td>Mailed check</td>\n",
       "      <td>25.75</td>\n",
       "      <td>25.75</td>\n",
       "      <td>No</td>\n",
       "    </tr>\n",
       "    <tr>\n",
       "      <th>1340</th>\n",
       "      <td>1371-DWPAZ</td>\n",
       "      <td>Female</td>\n",
       "      <td>0</td>\n",
       "      <td>Yes</td>\n",
       "      <td>Yes</td>\n",
       "      <td>0</td>\n",
       "      <td>No</td>\n",
       "      <td>No phone service</td>\n",
       "      <td>DSL</td>\n",
       "      <td>Yes</td>\n",
       "      <td>...</td>\n",
       "      <td>Yes</td>\n",
       "      <td>Yes</td>\n",
       "      <td>Yes</td>\n",
       "      <td>No</td>\n",
       "      <td>Two year</td>\n",
       "      <td>No</td>\n",
       "      <td>Credit card (automatic)</td>\n",
       "      <td>56.05</td>\n",
       "      <td>56.05</td>\n",
       "      <td>No</td>\n",
       "    </tr>\n",
       "    <tr>\n",
       "      <th>3331</th>\n",
       "      <td>7644-OMVMY</td>\n",
       "      <td>Male</td>\n",
       "      <td>0</td>\n",
       "      <td>Yes</td>\n",
       "      <td>Yes</td>\n",
       "      <td>0</td>\n",
       "      <td>Yes</td>\n",
       "      <td>No</td>\n",
       "      <td>No</td>\n",
       "      <td>No internet service</td>\n",
       "      <td>...</td>\n",
       "      <td>No internet service</td>\n",
       "      <td>No internet service</td>\n",
       "      <td>No internet service</td>\n",
       "      <td>No internet service</td>\n",
       "      <td>Two year</td>\n",
       "      <td>No</td>\n",
       "      <td>Mailed check</td>\n",
       "      <td>19.85</td>\n",
       "      <td>19.85</td>\n",
       "      <td>No</td>\n",
       "    </tr>\n",
       "  </tbody>\n",
       "</table>\n",
       "<p>6 rows × 21 columns</p>\n",
       "</div>"
      ],
      "text/plain": [
       "      customerID  gender SeniorCitizen Partner Dependents  tenure  \\\n",
       "488   4472-LVYGI  Female             0     Yes        Yes       0   \n",
       "753   3115-CZMZD    Male             0      No        Yes       0   \n",
       "936   5709-LVOEQ  Female             0     Yes        Yes       0   \n",
       "1082  4367-NUYAO    Male             0     Yes        Yes       0   \n",
       "1340  1371-DWPAZ  Female             0     Yes        Yes       0   \n",
       "3331  7644-OMVMY    Male             0     Yes        Yes       0   \n",
       "\n",
       "     PhoneService     MultipleLines InternetService       OnlineSecurity  ...  \\\n",
       "488            No  No phone service             DSL                  Yes  ...   \n",
       "753           Yes                No              No  No internet service  ...   \n",
       "936           Yes                No             DSL                  Yes  ...   \n",
       "1082          Yes               Yes              No  No internet service  ...   \n",
       "1340           No  No phone service             DSL                  Yes  ...   \n",
       "3331          Yes                No              No  No internet service  ...   \n",
       "\n",
       "         DeviceProtection          TechSupport          StreamingTV  \\\n",
       "488                   Yes                  Yes                  Yes   \n",
       "753   No internet service  No internet service  No internet service   \n",
       "936                   Yes                   No                  Yes   \n",
       "1082  No internet service  No internet service  No internet service   \n",
       "1340                  Yes                  Yes                  Yes   \n",
       "3331  No internet service  No internet service  No internet service   \n",
       "\n",
       "          StreamingMovies  Contract PaperlessBilling  \\\n",
       "488                    No  Two year              Yes   \n",
       "753   No internet service  Two year               No   \n",
       "936                   Yes  Two year               No   \n",
       "1082  No internet service  Two year               No   \n",
       "1340                   No  Two year               No   \n",
       "3331  No internet service  Two year               No   \n",
       "\n",
       "                  PaymentMethod MonthlyCharges  TotalCharges  Churn  \n",
       "488   Bank transfer (automatic)          52.55         52.55     No  \n",
       "753                Mailed check          20.25         20.25     No  \n",
       "936                Mailed check          80.85         80.85     No  \n",
       "1082               Mailed check          25.75         25.75     No  \n",
       "1340    Credit card (automatic)          56.05         56.05     No  \n",
       "3331               Mailed check          19.85         19.85     No  \n",
       "\n",
       "[6 rows x 21 columns]"
      ]
     },
     "execution_count": 48,
     "metadata": {},
     "output_type": "execute_result"
    }
   ],
   "source": [
    "# Lets confirm the replaced values using the index number of the rows\n",
    "\n",
    "# We will only check the first 5 rows that had null values in TotalCharges feature\n",
    "\n",
    "df_replaced = df.filter(items=[488, 753,936,1082,1340,3331], axis=0)\n",
    "\n",
    "df_replaced"
   ]
  },
  {
   "cell_type": "markdown",
   "id": "37d230b2",
   "metadata": {},
   "source": [
    "**From above table, null values filled correctly**"
   ]
  },
  {
   "cell_type": "code",
   "execution_count": 49,
   "id": "533c2540",
   "metadata": {},
   "outputs": [
    {
     "name": "stdout",
     "output_type": "stream",
     "text": [
      "<class 'pandas.core.frame.DataFrame'>\n",
      "RangeIndex: 7043 entries, 0 to 7042\n",
      "Data columns (total 21 columns):\n",
      " #   Column            Non-Null Count  Dtype  \n",
      "---  ------            --------------  -----  \n",
      " 0   customerID        7043 non-null   object \n",
      " 1   gender            7043 non-null   object \n",
      " 2   SeniorCitizen     7043 non-null   object \n",
      " 3   Partner           7043 non-null   object \n",
      " 4   Dependents        7043 non-null   object \n",
      " 5   tenure            7043 non-null   int64  \n",
      " 6   PhoneService      7043 non-null   object \n",
      " 7   MultipleLines     7043 non-null   object \n",
      " 8   InternetService   7043 non-null   object \n",
      " 9   OnlineSecurity    7043 non-null   object \n",
      " 10  OnlineBackup      7043 non-null   object \n",
      " 11  DeviceProtection  7043 non-null   object \n",
      " 12  TechSupport       7043 non-null   object \n",
      " 13  StreamingTV       7043 non-null   object \n",
      " 14  StreamingMovies   7043 non-null   object \n",
      " 15  Contract          7043 non-null   object \n",
      " 16  PaperlessBilling  7043 non-null   object \n",
      " 17  PaymentMethod     7043 non-null   object \n",
      " 18  MonthlyCharges    7043 non-null   float64\n",
      " 19  TotalCharges      7043 non-null   float64\n",
      " 20  Churn             7043 non-null   object \n",
      "dtypes: float64(2), int64(1), object(18)\n",
      "memory usage: 1.1+ MB\n"
     ]
    }
   ],
   "source": [
    "# Lets confirm all data types are correct and no missing values\n",
    "\n",
    "df.info()"
   ]
  },
  {
   "cell_type": "code",
   "execution_count": 50,
   "id": "bbdd31fc",
   "metadata": {},
   "outputs": [
    {
     "name": "stdout",
     "output_type": "stream",
     "text": [
      "Total number of columns: 20\n",
      "Number of category columns: 17\n",
      "Number of numerical columns: 3\n",
      "Number of categorical_but_numerical: 0\n",
      "Number of numerical_but_categorical: 0\n"
     ]
    }
   ],
   "source": [
    "# First we remove customerID from this check as it was not changed\n",
    "\n",
    "df_new = df.drop('customerID', axis=1)\n",
    "\n",
    "# Then, we run the following function to update num_cols and cat_cols\n",
    "\n",
    "cat_but_num, num_but_cat, num_cols, cat_cols = dataType_Check(df_new)\n"
   ]
  },
  {
   "cell_type": "markdown",
   "id": "2595ca1c",
   "metadata": {},
   "source": [
    "**Note: Number of columns have reduced to 20 because we excluded customerID.**"
   ]
  },
  {
   "cell_type": "markdown",
   "id": "caa684d4",
   "metadata": {},
   "source": [
    "## Exploratory Data Analysis (EDA)"
   ]
  },
  {
   "cell_type": "markdown",
   "id": "09628138",
   "metadata": {},
   "source": [
    "### Dependent feature (Churn) / Target"
   ]
  },
  {
   "cell_type": "code",
   "execution_count": 16,
   "id": "c53f6cb1",
   "metadata": {},
   "outputs": [
    {
     "data": {
      "text/plain": [
       "No     5174\n",
       "Yes    1869\n",
       "Name: Churn, dtype: int64"
      ]
     },
     "execution_count": 16,
     "metadata": {},
     "output_type": "execute_result"
    }
   ],
   "source": [
    "# Lets check the distribution of the feature\n",
    "\n",
    "df['Churn'].value_counts()"
   ]
  },
  {
   "cell_type": "code",
   "execution_count": 17,
   "id": "21e36f8e",
   "metadata": {},
   "outputs": [
    {
     "data": {
      "image/png": "[encoded data removed]",
      "text/plain": [
       "<Figure size 648x432 with 1 Axes>"
      ]
     },
     "metadata": {},
     "output_type": "display_data"
    }
   ],
   "source": [
    "# Lets create a pie chart to visually display the distribution\n",
    "\n",
    "plt.figure(figsize= (9, 6))\n",
    "\n",
    "data = [1869, 5174]\n",
    "\n",
    "plt.pie(data, labels= [\"Yes\", \"No\"], explode = [0.1, 0], autopct=\"%1.0f%%\", shadow= True, colors= ['#0384fc','#fcbe03'])\n",
    "\n",
    "plt.legend()\n",
    "plt.show()"
   ]
  },
  {
   "cell_type": "markdown",
   "id": "6a338d46",
   "metadata": {},
   "source": [
    "**From the chart above, we see that;**\n",
    "\n",
    "- A very high proportion (27%) of customers have churn.\n",
    "\n",
    "- It is vital to identify ways to reduce the churning rate or at least manage it.\n",
    "\n",
    "- Lets explore the data more to find insights regarding the factors relating to and influencing churn."
   ]
  },
  {
   "cell_type": "markdown",
   "id": "ea98d5dd",
   "metadata": {},
   "source": [
    "### Predictor features"
   ]
  },
  {
   "cell_type": "markdown",
   "id": "df91e0f5",
   "metadata": {},
   "source": [
    "### Numerical features"
   ]
  },
  {
   "cell_type": "code",
   "execution_count": 18,
   "id": "751ff2ff",
   "metadata": {},
   "outputs": [],
   "source": [
    "# We will use boxplots to check the numerical features distribution against the target (Churn)\n",
    "\n",
    "# We begin by creating a function to generate plots\n",
    "\n",
    "def num_plots(dep_var): \n",
    "    \n",
    "    # dep_var - represents the dependent variable. Input as data.column name\n",
    "    \n",
    "    for col in num_cols:\n",
    "        \n",
    "        sns.boxplot(x = dep_var, y = df[col])\n",
    "\n",
    "        plt.title(\"{} Distribution\".format(col))\n",
    "        plt.xlabel(\"{}\".format(dep_var.name))\n",
    "        plt.ylabel(\"{}\".format(col))\n",
    "        plt.show() "
   ]
  },
  {
   "cell_type": "code",
   "execution_count": 19,
   "id": "1e51ed5a",
   "metadata": {},
   "outputs": [
    {
     "data": {
      "image/png": "[encoded data removed]",
      "text/plain": [
       "<Figure size 432x288 with 1 Axes>"
      ]
     },
     "metadata": {},
     "output_type": "display_data"
    },
    {
     "data": {
      "image/png": "[encoded data removed]",
      "text/plain": [
       "<Figure size 432x288 with 1 Axes>"
      ]
     },
     "metadata": {},
     "output_type": "display_data"
    },
    {
     "data": {
      "image/png": "[encoded data removed]",
      "text/plain": [
       "<Figure size 432x288 with 1 Axes>"
      ]
     },
     "metadata": {},
     "output_type": "display_data"
    }
   ],
   "source": [
    "# Lets run the function with our data\n",
    "\n",
    "num_plots(df.Churn)"
   ]
  },
  {
   "cell_type": "markdown",
   "id": "b1bb1ac3",
   "metadata": {},
   "source": [
    "**From the tenure distribution chart we can see that;**\n",
    "\n",
    "- Generally, customers churn during their early stages of their interaction with the company\n",
    "\n",
    "**From the monthlycharges distribution chart we can note that;**\n",
    "\n",
    "- Overall, customers churn when there monthly charges are high.\n",
    "\n",
    "**From the TotalCharges distribution chart we can note that;**\n",
    "\n",
    "- Most customers who churn have low total charges."
   ]
  },
  {
   "cell_type": "code",
   "execution_count": 20,
   "id": "0e528ed3",
   "metadata": {},
   "outputs": [],
   "source": [
    "# Lets explore more details about these numerical features\n",
    "\n",
    "# Lets divide the data into two; \n",
    "\n",
    "df_churn_yes = df.loc[df['Churn'] == \"Yes\"]\n",
    "\n",
    "df_churn_no = df.loc[df['Churn'] == \"No\"]"
   ]
  },
  {
   "cell_type": "code",
   "execution_count": 21,
   "id": "caa70cff",
   "metadata": {},
   "outputs": [
    {
     "data": {
      "text/html": [
       "<div>\n",
       "<style scoped>\n",
       "    .dataframe tbody tr th:only-of-type {\n",
       "        vertical-align: middle;\n",
       "    }\n",
       "\n",
       "    .dataframe tbody tr th {\n",
       "        vertical-align: top;\n",
       "    }\n",
       "\n",
       "    .dataframe thead th {\n",
       "        text-align: right;\n",
       "    }\n",
       "</style>\n",
       "<table border=\"1\" class=\"dataframe\">\n",
       "  <thead>\n",
       "    <tr style=\"text-align: right;\">\n",
       "      <th></th>\n",
       "      <th>tenure</th>\n",
       "      <th>MonthlyCharges</th>\n",
       "      <th>TotalCharges</th>\n",
       "    </tr>\n",
       "  </thead>\n",
       "  <tbody>\n",
       "    <tr>\n",
       "      <th>count</th>\n",
       "      <td>1869.000000</td>\n",
       "      <td>1869.000000</td>\n",
       "      <td>1869.000000</td>\n",
       "    </tr>\n",
       "    <tr>\n",
       "      <th>mean</th>\n",
       "      <td>17.979133</td>\n",
       "      <td>74.441332</td>\n",
       "      <td>1531.796094</td>\n",
       "    </tr>\n",
       "    <tr>\n",
       "      <th>std</th>\n",
       "      <td>19.531123</td>\n",
       "      <td>24.666053</td>\n",
       "      <td>1890.822994</td>\n",
       "    </tr>\n",
       "    <tr>\n",
       "      <th>min</th>\n",
       "      <td>1.000000</td>\n",
       "      <td>18.850000</td>\n",
       "      <td>18.850000</td>\n",
       "    </tr>\n",
       "    <tr>\n",
       "      <th>25%</th>\n",
       "      <td>2.000000</td>\n",
       "      <td>56.150000</td>\n",
       "      <td>134.500000</td>\n",
       "    </tr>\n",
       "    <tr>\n",
       "      <th>50%</th>\n",
       "      <td>10.000000</td>\n",
       "      <td>79.650000</td>\n",
       "      <td>703.550000</td>\n",
       "    </tr>\n",
       "    <tr>\n",
       "      <th>75%</th>\n",
       "      <td>29.000000</td>\n",
       "      <td>94.200000</td>\n",
       "      <td>2331.300000</td>\n",
       "    </tr>\n",
       "    <tr>\n",
       "      <th>max</th>\n",
       "      <td>72.000000</td>\n",
       "      <td>118.350000</td>\n",
       "      <td>8684.800000</td>\n",
       "    </tr>\n",
       "  </tbody>\n",
       "</table>\n",
       "</div>"
      ],
      "text/plain": [
       "            tenure  MonthlyCharges  TotalCharges\n",
       "count  1869.000000     1869.000000   1869.000000\n",
       "mean     17.979133       74.441332   1531.796094\n",
       "std      19.531123       24.666053   1890.822994\n",
       "min       1.000000       18.850000     18.850000\n",
       "25%       2.000000       56.150000    134.500000\n",
       "50%      10.000000       79.650000    703.550000\n",
       "75%      29.000000       94.200000   2331.300000\n",
       "max      72.000000      118.350000   8684.800000"
      ]
     },
     "execution_count": 21,
     "metadata": {},
     "output_type": "execute_result"
    }
   ],
   "source": [
    "# Lets get descriptive statistics for churned customers\n",
    "\n",
    "df_churn_yes.describe()"
   ]
  },
  {
   "cell_type": "markdown",
   "id": "1e720fb5",
   "metadata": {},
   "source": [
    "**From the tenure column we can see that;**\n",
    "\n",
    "- 75% of customers start churning after the first month to 29 months.\n",
    "    \n",
    "- The average tenure for churning is around 18 months but median is 10 months.\n",
    "\n",
    "  - It implies half of churned customers leave by the 10th month.\n",
    "\n",
    "**From the monthlycharges column we can note that;**\n",
    "\n",
    "- 75% of churning happens when the monthly charges exceed `$56` and rise upto around `$94`.\n",
    "    \n",
    "- The average monthly charge of those who churn is `$74` and median is `$79`.\n",
    "    \n",
    "**From the TotalCharges column we can note that;**\n",
    "\n",
    "- 75% of customers churn when their total charges is between `$134` and `$2331`.\n",
    "\n",
    "- The average total charge of those who churn is `$1532` and median is `$703`.\n",
    "\n",
    "  - It implies half of churned customers leave during the early months thats why they have low total charges.\n",
    "    \n",
    "- There is a significant number of customers who churn when total charges exceed around `$5800`.\n",
    "    \n",
    "  \n",
    "**The summary delivers useful insights which the company can use to;**\n",
    "\n",
    "- Identify processes inefficiencies and modify them.\n",
    "\n",
    "- Introduce new customer processes that will aid to increase retention rate.\n",
    "\n",
    "- To dig deep to understand customers' needs.\n",
    "\n",
    "- To gauge the company's competitiveness in the market especially in terms of charges and services it offers."
   ]
  },
  {
   "cell_type": "code",
   "execution_count": 22,
   "id": "cabe3f70",
   "metadata": {},
   "outputs": [
    {
     "data": {
      "text/html": [
       "<div>\n",
       "<style scoped>\n",
       "    .dataframe tbody tr th:only-of-type {\n",
       "        vertical-align: middle;\n",
       "    }\n",
       "\n",
       "    .dataframe tbody tr th {\n",
       "        vertical-align: top;\n",
       "    }\n",
       "\n",
       "    .dataframe thead th {\n",
       "        text-align: right;\n",
       "    }\n",
       "</style>\n",
       "<table border=\"1\" class=\"dataframe\">\n",
       "  <thead>\n",
       "    <tr style=\"text-align: right;\">\n",
       "      <th></th>\n",
       "      <th>tenure</th>\n",
       "      <th>MonthlyCharges</th>\n",
       "      <th>TotalCharges</th>\n",
       "    </tr>\n",
       "  </thead>\n",
       "  <tbody>\n",
       "    <tr>\n",
       "      <th>count</th>\n",
       "      <td>5174.000000</td>\n",
       "      <td>5174.000000</td>\n",
       "      <td>5174.000000</td>\n",
       "    </tr>\n",
       "    <tr>\n",
       "      <th>mean</th>\n",
       "      <td>37.569965</td>\n",
       "      <td>61.265124</td>\n",
       "      <td>2549.999497</td>\n",
       "    </tr>\n",
       "    <tr>\n",
       "      <th>std</th>\n",
       "      <td>24.113777</td>\n",
       "      <td>31.092648</td>\n",
       "      <td>2329.858843</td>\n",
       "    </tr>\n",
       "    <tr>\n",
       "      <th>min</th>\n",
       "      <td>0.000000</td>\n",
       "      <td>18.250000</td>\n",
       "      <td>18.800000</td>\n",
       "    </tr>\n",
       "    <tr>\n",
       "      <th>25%</th>\n",
       "      <td>15.000000</td>\n",
       "      <td>25.100000</td>\n",
       "      <td>572.900000</td>\n",
       "    </tr>\n",
       "    <tr>\n",
       "      <th>50%</th>\n",
       "      <td>38.000000</td>\n",
       "      <td>64.425000</td>\n",
       "      <td>1679.525000</td>\n",
       "    </tr>\n",
       "    <tr>\n",
       "      <th>75%</th>\n",
       "      <td>61.000000</td>\n",
       "      <td>88.400000</td>\n",
       "      <td>4262.850000</td>\n",
       "    </tr>\n",
       "    <tr>\n",
       "      <th>max</th>\n",
       "      <td>72.000000</td>\n",
       "      <td>118.750000</td>\n",
       "      <td>8672.450000</td>\n",
       "    </tr>\n",
       "  </tbody>\n",
       "</table>\n",
       "</div>"
      ],
      "text/plain": [
       "            tenure  MonthlyCharges  TotalCharges\n",
       "count  5174.000000     5174.000000   5174.000000\n",
       "mean     37.569965       61.265124   2549.999497\n",
       "std      24.113777       31.092648   2329.858843\n",
       "min       0.000000       18.250000     18.800000\n",
       "25%      15.000000       25.100000    572.900000\n",
       "50%      38.000000       64.425000   1679.525000\n",
       "75%      61.000000       88.400000   4262.850000\n",
       "max      72.000000      118.750000   8672.450000"
      ]
     },
     "execution_count": 22,
     "metadata": {},
     "output_type": "execute_result"
    }
   ],
   "source": [
    "# Lets get descriptive statistics for customers not churned\n",
    "\n",
    "df_churn_no.describe()"
   ]
  },
  {
   "cell_type": "markdown",
   "id": "72d34c2d",
   "metadata": {},
   "source": [
    "**From the tenure column we can see that;**\n",
    "\n",
    "- Most customers who are loyal, have stayed with the compeny for a minimum of 15 months.\n",
    "    \n",
    "**From the monthlycharges column we can note that;**\n",
    "\n",
    "- Most loyal customers have monthly charges between `$25` and `$88`. \n",
    "  \n",
    "**From the TotalCharges column we can note that;\n",
    "\n",
    "- Half of the customers who churn, have total charges between `$572` and `$1679`.    \n",
    "   \n",
    "*There is high overlap in the numerical features between the customers who stay and those who leave.*\n",
    "\n",
    "**Analyzing more variables will aid to reduce the overlap and provide more guidance on the specific areas for the business to focus on.**"
   ]
  },
  {
   "cell_type": "markdown",
   "id": "842c22f5",
   "metadata": {},
   "source": [
    "### Categorical features"
   ]
  },
  {
   "cell_type": "code",
   "execution_count": 29,
   "id": "e13db340",
   "metadata": {},
   "outputs": [
    {
     "name": "stdout",
     "output_type": "stream",
     "text": [
      "gender : ['Female', 'Male']\n",
      "SeniorCitizen : ['0', '1']\n",
      "Partner : ['Yes', 'No']\n",
      "Dependents : ['No', 'Yes']\n",
      "PhoneService : ['No', 'Yes']\n",
      "MultipleLines : ['No phone service', 'No', 'Yes']\n",
      "InternetService : ['DSL', 'Fiber optic', 'No']\n",
      "OnlineSecurity : ['No', 'Yes', 'No internet service']\n",
      "OnlineBackup : ['Yes', 'No', 'No internet service']\n",
      "DeviceProtection : ['No', 'Yes', 'No internet service']\n",
      "TechSupport : ['No', 'Yes', 'No internet service']\n",
      "StreamingTV : ['No', 'Yes', 'No internet service']\n",
      "StreamingMovies : ['No', 'Yes', 'No internet service']\n",
      "Contract : ['Month-to-month', 'One year', 'Two year']\n",
      "PaperlessBilling : ['Yes', 'No']\n",
      "PaymentMethod : ['Electronic check', 'Mailed check', 'Bank transfer (automatic)', 'Credit card (automatic)']\n",
      "Churn : ['No', 'Yes']\n"
     ]
    }
   ],
   "source": [
    "# Lets explore the unique values for each categorical feature \n",
    "\n",
    "cat_values = {column: list(df[column].unique()) for column in cat_cols}\n",
    "\n",
    "for key, value in cat_values.items():\n",
    "    print(f'{key} : {value}')"
   ]
  },
  {
   "cell_type": "markdown",
   "id": "97280408",
   "metadata": {},
   "source": [
    "**From above results, we note that;**\n",
    "\n",
    "- The internet service additional products like OnlineSecurity have a 'No' and 'No internet service' values.\n",
    "\n",
    "- We will not combine the two values because each provides a unique description.\n",
    "\n",
    "    - 'No' means the customer has internet service but not that specific product.\n",
    "\n",
    "    - 'No internet service' means the customer has not subscribed to internet service.\n"
   ]
  },
  {
   "cell_type": "code",
   "execution_count": 30,
   "id": "a99e65dd",
   "metadata": {},
   "outputs": [],
   "source": [
    "# We will use bar plots to check the categorical features distribution against the target (Churn)\n",
    "\n",
    "# First we need to delete the dependent variable (Churn) from cat_cols)\n",
    "\n",
    "cat_cols.pop()\n",
    "\n",
    "# Then, we create a function to generate the plots\n",
    "\n",
    "def cat_plots(dataframe, dep_var): \n",
    "    \n",
    "    for col in cat_cols:\n",
    "        \n",
    "        colors = ['#fcbe03','#0384fc']\n",
    "        \n",
    "        f = dataframe.groupby([col,dep_var]).size().unstack()\n",
    "        \n",
    "        ax = (f.T*100.0 / f.T.sum()).T.plot(kind='bar',\n",
    "                                            width = 0.2,\n",
    "                                            stacked = True,\n",
    "                                            rot = 0, \n",
    "                                            figsize = (7,5),\n",
    "                                            color = colors)\n",
    "        \n",
    "        ax.yaxis.set_major_formatter(mtick.PercentFormatter())\n",
    "        ax.legend(prop={'size':12},title = 'dep_var')\n",
    "        ax.set_ylabel('% Customers')\n",
    "        ax.set_title(\"{}\".format(dep_var.name)+ ' by '+ \"{}\".format(col),size = 14)\n",
    "        \n",
    "        plt.setp(ax.get_xticklabels(), rotation=30, horizontalalignment='right', fontsize='small')\n",
    "        \n",
    "        # Code to add the data labels on the stacked bar chart\n",
    "        \n",
    "        for p in ax.patches:\n",
    "            width, height = p.get_width(), p.get_height()\n",
    "            x, y = p.get_xy() \n",
    "            ax.annotate('{:.0f}%'.format(height), (p.get_x()+.25*width, p.get_y()+.4*height),\n",
    "                color = 'black',\n",
    "                weight = 'bold',size =12)"
   ]
  },
  {
   "cell_type": "code",
   "execution_count": 31,
   "id": "b4386ffb",
   "metadata": {},
   "outputs": [
    {
     "data": {
      "image/png": "[encoded data removed]",
      "text/plain": [
       "<Figure size 504x360 with 1 Axes>"
      ]
     },
     "metadata": {},
     "output_type": "display_data"
    },
    {
     "data": {
      "image/png": "[encoded data removed]",
      "text/plain": [
       "<Figure size 504x360 with 1 Axes>"
      ]
     },
     "metadata": {},
     "output_type": "display_data"
    },
    {
     "data": {
      "image/png": "[encoded data removed]",
      "text/plain": [
       "<Figure size 504x360 with 1 Axes>"
      ]
     },
     "metadata": {},
     "output_type": "display_data"
    },
    {
     "data": {
      "image/png": "[encoded data removed]",
      "text/plain": [
       "<Figure size 504x360 with 1 Axes>"
      ]
     },
     "metadata": {},
     "output_type": "display_data"
    },
    {
     "data": {
      "image/png": "[encoded data removed]",
      "text/plain": [
       "<Figure size 504x360 with 1 Axes>"
      ]
     },
     "metadata": {},
     "output_type": "display_data"
    },
    {
     "data": {
      "image/png": "[encoded data removed]",
      "text/plain": [
       "<Figure size 504x360 with 1 Axes>"
      ]
     },
     "metadata": {},
     "output_type": "display_data"
    },
    {
     "data": {
      "image/png": "[encoded data removed]",
      "text/plain": [
       "<Figure size 504x360 with 1 Axes>"
      ]
     },
     "metadata": {},
     "output_type": "display_data"
    },
    {
     "data": {
      "image/png": "[encoded data removed]",
      "text/plain": [
       "<Figure size 504x360 with 1 Axes>"
      ]
     },
     "metadata": {},
     "output_type": "display_data"
    },
    {
     "data": {
      "image/png": "[encoded data removed]",
      "text/plain": [
       "<Figure size 504x360 with 1 Axes>"
      ]
     },
     "metadata": {},
     "output_type": "display_data"
    },
    {
     "data": {
      "image/png": "[encoded data removed]",
      "text/plain": [
       "<Figure size 504x360 with 1 Axes>"
      ]
     },
     "metadata": {},
     "output_type": "display_data"
    },
    {
     "data": {
      "image/png": "[encoded data removed]",
      "text/plain": [
       "<Figure size 504x360 with 1 Axes>"
      ]
     },
     "metadata": {},
     "output_type": "display_data"
    },
    {
     "data": {
      "image/png": "[encoded data removed]",
      "text/plain": [
       "<Figure size 504x360 with 1 Axes>"
      ]
     },
     "metadata": {},
     "output_type": "display_data"
    },
    {
     "data": {
      "image/png": "[encoded data removed]",
      "text/plain": [
       "<Figure size 504x360 with 1 Axes>"
      ]
     },
     "metadata": {},
     "output_type": "display_data"
    },
    {
     "data": {
      "image/png": "[encoded data removed]",
      "text/plain": [
       "<Figure size 504x360 with 1 Axes>"
      ]
     },
     "metadata": {},
     "output_type": "display_data"
    },
    {
     "data": {
      "image/png": "[encoded data removed]",
      "text/plain": [
       "<Figure size 504x360 with 1 Axes>"
      ]
     },
     "metadata": {},
     "output_type": "display_data"
    },
    {
     "data": {
      "image/png": "[encoded data removed]",
      "text/plain": [
       "<Figure size 504x360 with 1 Axes>"
      ]
     },
     "metadata": {},
     "output_type": "display_data"
    }
   ],
   "source": [
    "# We run the function with our data\n",
    "\n",
    "cat_plots(df, df.Churn)"
   ]
  },
  {
   "cell_type": "markdown",
   "id": "0c30a0d1",
   "metadata": {},
   "source": [
    "**From the Churn by gender graph, we note that;**\n",
    "\n",
    "- The churn rate of female and male are almost the same at `27%` and `26%` respectively.\n",
    "\n",
    "- Gender does not seen to influence customer churn.\n",
    "\n",
    "**From the Churn by SeniorCitizen graph, we note that;**\n",
    "\n",
    "- There is more churn rate `42%` on senior citizens than on non senior citizens `24%`. \n",
    "\n",
    "- Being a senior citizen may have an influence on customer churn.\n",
    "\n",
    "**From the Churn by Partner graph, we note that;**\n",
    "\n",
    "- There is more churn rate `33%` on those without partners than on customers with partners `20%`. \n",
    "\n",
    "- Having no partner may have an influence on customer churn.\n",
    "\n",
    "**From the Churn by dependents graph, we note that;**\n",
    "\n",
    "- There is more churn rate `31%` on those without dependents than on customers with dependents `15%`. \n",
    "\n",
    "- Having no dependents may have an influence on customer churn.\n",
    "\n",
    "**From the Churn by PhoneService graph, we note that;**\n",
    "\n",
    "- The churn rate of those with or without phone service is almost the same at `27%` and `25%` respectively.\n",
    "\n",
    "- Subscribing to a phone service does not seen to influence customer churn.\n",
    "\n",
    "**From the Churn by MultipleLines graph, we note that;**\n",
    "\n",
    "- The churn rate of those with, without, or no phone service on multiple lines is almost the same at `29%`, `25%` and `25%` respectively.\n",
    "\n",
    "- Subscribing to multiple lines or not and not subscribing to a phone service does not seen to influence customer churn.\n",
    "\n",
    "**From the Churn by InternetService graph, we note that;**\n",
    "\n",
    "- The churn rate of those with fibre optic is more at `42%`, followed by having DSL at `19%`, and lastly, not having internet service at `7%`.\n",
    "\n",
    "- Subscribing to internet service and especially fibre optic may have an influence on customer churn.\n",
    "\n",
    "**From the Churn by OnlineSecurity graph, we note tha44005\n",
    "\n",
    "- The churn rate of internet subscribers without online security is highest at `42%`, followed by those who have subscribed to online security at `1%`, and finally, not having internet service at `7%`.\n",
    "\n",
    "- Not subscribing to online security but subscribed to internet service may have an influence on customer churn.\n",
    "\n",
    "**From the Churn by OnlineBackup graph, we note that;**\n",
    "\n",
    "- The churn rate of internet subscribers without online backup is highest at `40%` followed by those who have subscribed to online backup at `22%` and finally, not having internet service at `7%`.\n",
    "\n",
    "- Not subscribing to online backup but subscribed to internet service may have an influence on customer churn.\n",
    "\n",
    "**From the Churn by DeviceProtection, we note that**\n",
    "\n",
    "- The churn rate of internet subscribers without device protection is highest at `39%`, followed by those who have subscribed to device protection at `23%` and lastly, not having internet service at `7%`.\n",
    "\n",
    "- Not subscribing to device protection but subcribed to internet service may have an influence on customer churn.\n",
    "\n",
    "**From the Churn by TechSupport, we note that**\n",
    "\n",
    "- The churn rate of internet subscribers without technical support is highest at `42%`, followed by those who have subscribed to device protection at `15%` and lastly, not having internet service at `7%`.\n",
    "\n",
    "- Not subscribing to technical support but subcribed to internet service may have an influence on customer churn.\n",
    "\n",
    "**From the Churn by StreamingTV, we note that**\n",
    "\n",
    "- The churn rate of internet subscribers without streaming TV is highest at `34%`, closely followed by those who have subscribed to StreamingTV at `30%` and lastly, not having internet service at `7%`.\n",
    "\n",
    "- Generally, internet subscribers with or without streaning TV may have an influence on customer churn.\n",
    "\n",
    "**From the Churn by StreamingMovies, we note that**\n",
    "\n",
    "- The churn rate of internet subscribers without streaming movies is highest at `34%`, closely followed by those who have subscribed to Streaming movies at `30%` and lastly, not having internet service at `7%`.\n",
    "\n",
    "- Generally, internet subscribers with or without streaning movies may have an influence on customer churn.\n",
    "\n",
    "**From the Churn by Contract, we note that**\n",
    "\n",
    "- The churn rate of customers with month to month contracts is highest at `43%`, followed by those with one year contracts at `11%` and marginal churning for those with two year contracts at `3%`.\n",
    "\n",
    "- Therefore, month to month contracts may have an influence on customer churn.\n",
    "\n",
    "**From the Churn by PaperlessBilling, we note that**\n",
    "\n",
    "- The churn rate of customers subcribed to paperless billing is highest at `34%`, while those not using paperless billing at `16%`.\n",
    "\n",
    "- Therefore, subscribing to paperless billing may have an influence on customer churn.\n",
    "\n",
    "**From the Churn by PaymentMethod, we note that**\n",
    "\n",
    "- The churn rate of customers subcribed to electronic check is highest at `45%`, followed by those paying through mailed check at `19%`, then automated bank transfer at `17%`, and lastly, automatic credit card at `15%`. \n",
    "\n",
    "- Therefore, subscribing to electronic check may have an influence on customer churn.\n",
    "\n",
    "**The inferences provided above are general. We need to create a model that will provide more accurate and specific analysis on the relations between the predictor factors and the target (Churn) feature.**"
   ]
  },
  {
   "cell_type": "markdown",
   "id": "c0c35cbc",
   "metadata": {},
   "source": [
    "# Building the Model "
   ]
  },
  {
   "cell_type": "markdown",
   "id": "81f20b08",
   "metadata": {},
   "source": [
    "- Models require all variables / features to be represented in numerical format, hence we will begin by encoding the categorical features."
   ]
  },
  {
   "cell_type": "markdown",
   "id": "8dc9a90e",
   "metadata": {},
   "source": [
    "## Encoding Categorical Features"
   ]
  },
  {
   "cell_type": "code",
   "execution_count": 52,
   "id": "32a2d926",
   "metadata": {},
   "outputs": [
    {
     "data": {
      "text/plain": [
       "0    0\n",
       "1    0\n",
       "2    1\n",
       "3    0\n",
       "4    1\n",
       "Name: Churn, dtype: int64"
      ]
     },
     "execution_count": 52,
     "metadata": {},
     "output_type": "execute_result"
    }
   ],
   "source": [
    "# We will use the dataframe that excludes customerID (df_new) as it is not required in building the model\n",
    "\n",
    "# First we will convert dependent variable (Churn) to a binary numerical variable\n",
    "\n",
    "df_new['Churn'].replace(['Yes', 'No'],[1, 0], inplace=True)\n",
    "\n",
    "df_new['Churn'].head()"
   ]
  },
  {
   "cell_type": "code",
   "execution_count": 53,
   "id": "1042c2e6",
   "metadata": {},
   "outputs": [
    {
     "data": {
      "text/html": [
       "<div>\n",
       "<style scoped>\n",
       "    .dataframe tbody tr th:only-of-type {\n",
       "        vertical-align: middle;\n",
       "    }\n",
       "\n",
       "    .dataframe tbody tr th {\n",
       "        vertical-align: top;\n",
       "    }\n",
       "\n",
       "    .dataframe thead th {\n",
       "        text-align: right;\n",
       "    }\n",
       "</style>\n",
       "<table border=\"1\" class=\"dataframe\">\n",
       "  <thead>\n",
       "    <tr style=\"text-align: right;\">\n",
       "      <th></th>\n",
       "      <th>tenure</th>\n",
       "      <th>MonthlyCharges</th>\n",
       "      <th>TotalCharges</th>\n",
       "      <th>Churn</th>\n",
       "      <th>gender_Female</th>\n",
       "      <th>gender_Male</th>\n",
       "      <th>SeniorCitizen_0</th>\n",
       "      <th>SeniorCitizen_1</th>\n",
       "      <th>Partner_No</th>\n",
       "      <th>Partner_Yes</th>\n",
       "      <th>...</th>\n",
       "      <th>StreamingMovies_Yes</th>\n",
       "      <th>Contract_Month-to-month</th>\n",
       "      <th>Contract_One year</th>\n",
       "      <th>Contract_Two year</th>\n",
       "      <th>PaperlessBilling_No</th>\n",
       "      <th>PaperlessBilling_Yes</th>\n",
       "      <th>PaymentMethod_Bank transfer (automatic)</th>\n",
       "      <th>PaymentMethod_Credit card (automatic)</th>\n",
       "      <th>PaymentMethod_Electronic check</th>\n",
       "      <th>PaymentMethod_Mailed check</th>\n",
       "    </tr>\n",
       "  </thead>\n",
       "  <tbody>\n",
       "    <tr>\n",
       "      <th>0</th>\n",
       "      <td>1</td>\n",
       "      <td>29.85</td>\n",
       "      <td>29.85</td>\n",
       "      <td>0</td>\n",
       "      <td>1</td>\n",
       "      <td>0</td>\n",
       "      <td>1</td>\n",
       "      <td>0</td>\n",
       "      <td>0</td>\n",
       "      <td>1</td>\n",
       "      <td>...</td>\n",
       "      <td>0</td>\n",
       "      <td>1</td>\n",
       "      <td>0</td>\n",
       "      <td>0</td>\n",
       "      <td>0</td>\n",
       "      <td>1</td>\n",
       "      <td>0</td>\n",
       "      <td>0</td>\n",
       "      <td>1</td>\n",
       "      <td>0</td>\n",
       "    </tr>\n",
       "    <tr>\n",
       "      <th>1</th>\n",
       "      <td>34</td>\n",
       "      <td>56.95</td>\n",
       "      <td>1889.50</td>\n",
       "      <td>0</td>\n",
       "      <td>0</td>\n",
       "      <td>1</td>\n",
       "      <td>1</td>\n",
       "      <td>0</td>\n",
       "      <td>1</td>\n",
       "      <td>0</td>\n",
       "      <td>...</td>\n",
       "      <td>0</td>\n",
       "      <td>0</td>\n",
       "      <td>1</td>\n",
       "      <td>0</td>\n",
       "      <td>1</td>\n",
       "      <td>0</td>\n",
       "      <td>0</td>\n",
       "      <td>0</td>\n",
       "      <td>0</td>\n",
       "      <td>1</td>\n",
       "    </tr>\n",
       "    <tr>\n",
       "      <th>2</th>\n",
       "      <td>2</td>\n",
       "      <td>53.85</td>\n",
       "      <td>108.15</td>\n",
       "      <td>1</td>\n",
       "      <td>0</td>\n",
       "      <td>1</td>\n",
       "      <td>1</td>\n",
       "      <td>0</td>\n",
       "      <td>1</td>\n",
       "      <td>0</td>\n",
       "      <td>...</td>\n",
       "      <td>0</td>\n",
       "      <td>1</td>\n",
       "      <td>0</td>\n",
       "      <td>0</td>\n",
       "      <td>0</td>\n",
       "      <td>1</td>\n",
       "      <td>0</td>\n",
       "      <td>0</td>\n",
       "      <td>0</td>\n",
       "      <td>1</td>\n",
       "    </tr>\n",
       "    <tr>\n",
       "      <th>3</th>\n",
       "      <td>45</td>\n",
       "      <td>42.30</td>\n",
       "      <td>1840.75</td>\n",
       "      <td>0</td>\n",
       "      <td>0</td>\n",
       "      <td>1</td>\n",
       "      <td>1</td>\n",
       "      <td>0</td>\n",
       "      <td>1</td>\n",
       "      <td>0</td>\n",
       "      <td>...</td>\n",
       "      <td>0</td>\n",
       "      <td>0</td>\n",
       "      <td>1</td>\n",
       "      <td>0</td>\n",
       "      <td>1</td>\n",
       "      <td>0</td>\n",
       "      <td>1</td>\n",
       "      <td>0</td>\n",
       "      <td>0</td>\n",
       "      <td>0</td>\n",
       "    </tr>\n",
       "    <tr>\n",
       "      <th>4</th>\n",
       "      <td>2</td>\n",
       "      <td>70.70</td>\n",
       "      <td>151.65</td>\n",
       "      <td>1</td>\n",
       "      <td>1</td>\n",
       "      <td>0</td>\n",
       "      <td>1</td>\n",
       "      <td>0</td>\n",
       "      <td>1</td>\n",
       "      <td>0</td>\n",
       "      <td>...</td>\n",
       "      <td>0</td>\n",
       "      <td>1</td>\n",
       "      <td>0</td>\n",
       "      <td>0</td>\n",
       "      <td>0</td>\n",
       "      <td>1</td>\n",
       "      <td>0</td>\n",
       "      <td>0</td>\n",
       "      <td>1</td>\n",
       "      <td>0</td>\n",
       "    </tr>\n",
       "  </tbody>\n",
       "</table>\n",
       "<p>5 rows × 47 columns</p>\n",
       "</div>"
      ],
      "text/plain": [
       "   tenure  MonthlyCharges  TotalCharges  Churn  gender_Female  gender_Male  \\\n",
       "0       1           29.85         29.85      0              1            0   \n",
       "1      34           56.95       1889.50      0              0            1   \n",
       "2       2           53.85        108.15      1              0            1   \n",
       "3      45           42.30       1840.75      0              0            1   \n",
       "4       2           70.70        151.65      1              1            0   \n",
       "\n",
       "   SeniorCitizen_0  SeniorCitizen_1  Partner_No  Partner_Yes  ...  \\\n",
       "0                1                0           0            1  ...   \n",
       "1                1                0           1            0  ...   \n",
       "2                1                0           1            0  ...   \n",
       "3                1                0           1            0  ...   \n",
       "4                1                0           1            0  ...   \n",
       "\n",
       "   StreamingMovies_Yes  Contract_Month-to-month  Contract_One year  \\\n",
       "0                    0                        1                  0   \n",
       "1                    0                        0                  1   \n",
       "2                    0                        1                  0   \n",
       "3                    0                        0                  1   \n",
       "4                    0                        1                  0   \n",
       "\n",
       "   Contract_Two year  PaperlessBilling_No  PaperlessBilling_Yes  \\\n",
       "0                  0                    0                     1   \n",
       "1                  0                    1                     0   \n",
       "2                  0                    0                     1   \n",
       "3                  0                    1                     0   \n",
       "4                  0                    0                     1   \n",
       "\n",
       "   PaymentMethod_Bank transfer (automatic)  \\\n",
       "0                                        0   \n",
       "1                                        0   \n",
       "2                                        0   \n",
       "3                                        1   \n",
       "4                                        0   \n",
       "\n",
       "   PaymentMethod_Credit card (automatic)  PaymentMethod_Electronic check  \\\n",
       "0                                      0                               1   \n",
       "1                                      0                               0   \n",
       "2                                      0                               0   \n",
       "3                                      0                               0   \n",
       "4                                      0                               1   \n",
       "\n",
       "   PaymentMethod_Mailed check  \n",
       "0                           0  \n",
       "1                           1  \n",
       "2                           1  \n",
       "3                           0  \n",
       "4                           0  \n",
       "\n",
       "[5 rows x 47 columns]"
      ]
     },
     "execution_count": 53,
     "metadata": {},
     "output_type": "execute_result"
    }
   ],
   "source": [
    "# Then, let's convert all the other categorical features into numerical variables excluding customerID\n",
    "\n",
    "df_enc = pd.get_dummies(df_new)\n",
    "\n",
    "df_enc.head()"
   ]
  },
  {
   "cell_type": "code",
   "execution_count": 54,
   "id": "c4f4227b",
   "metadata": {},
   "outputs": [
    {
     "name": "stdout",
     "output_type": "stream",
     "text": [
      "<class 'pandas.core.frame.DataFrame'>\n",
      "RangeIndex: 7043 entries, 0 to 7042\n",
      "Data columns (total 47 columns):\n",
      " #   Column                                   Non-Null Count  Dtype  \n",
      "---  ------                                   --------------  -----  \n",
      " 0   tenure                                   7043 non-null   int64  \n",
      " 1   MonthlyCharges                           7043 non-null   float64\n",
      " 2   TotalCharges                             7043 non-null   float64\n",
      " 3   Churn                                    7043 non-null   int64  \n",
      " 4   gender_Female                            7043 non-null   uint8  \n",
      " 5   gender_Male                              7043 non-null   uint8  \n",
      " 6   SeniorCitizen_0                          7043 non-null   uint8  \n",
      " 7   SeniorCitizen_1                          7043 non-null   uint8  \n",
      " 8   Partner_No                               7043 non-null   uint8  \n",
      " 9   Partner_Yes                              7043 non-null   uint8  \n",
      " 10  Dependents_No                            7043 non-null   uint8  \n",
      " 11  Dependents_Yes                           7043 non-null   uint8  \n",
      " 12  PhoneService_No                          7043 non-null   uint8  \n",
      " 13  PhoneService_Yes                         7043 non-null   uint8  \n",
      " 14  MultipleLines_No                         7043 non-null   uint8  \n",
      " 15  MultipleLines_No phone service           7043 non-null   uint8  \n",
      " 16  MultipleLines_Yes                        7043 non-null   uint8  \n",
      " 17  InternetService_DSL                      7043 non-null   uint8  \n",
      " 18  InternetService_Fiber optic              7043 non-null   uint8  \n",
      " 19  InternetService_No                       7043 non-null   uint8  \n",
      " 20  OnlineSecurity_No                        7043 non-null   uint8  \n",
      " 21  OnlineSecurity_No internet service       7043 non-null   uint8  \n",
      " 22  OnlineSecurity_Yes                       7043 non-null   uint8  \n",
      " 23  OnlineBackup_No                          7043 non-null   uint8  \n",
      " 24  OnlineBackup_No internet service         7043 non-null   uint8  \n",
      " 25  OnlineBackup_Yes                         7043 non-null   uint8  \n",
      " 26  DeviceProtection_No                      7043 non-null   uint8  \n",
      " 27  DeviceProtection_No internet service     7043 non-null   uint8  \n",
      " 28  DeviceProtection_Yes                     7043 non-null   uint8  \n",
      " 29  TechSupport_No                           7043 non-null   uint8  \n",
      " 30  TechSupport_No internet service          7043 non-null   uint8  \n",
      " 31  TechSupport_Yes                          7043 non-null   uint8  \n",
      " 32  StreamingTV_No                           7043 non-null   uint8  \n",
      " 33  StreamingTV_No internet service          7043 non-null   uint8  \n",
      " 34  StreamingTV_Yes                          7043 non-null   uint8  \n",
      " 35  StreamingMovies_No                       7043 non-null   uint8  \n",
      " 36  StreamingMovies_No internet service      7043 non-null   uint8  \n",
      " 37  StreamingMovies_Yes                      7043 non-null   uint8  \n",
      " 38  Contract_Month-to-month                  7043 non-null   uint8  \n",
      " 39  Contract_One year                        7043 non-null   uint8  \n",
      " 40  Contract_Two year                        7043 non-null   uint8  \n",
      " 41  PaperlessBilling_No                      7043 non-null   uint8  \n",
      " 42  PaperlessBilling_Yes                     7043 non-null   uint8  \n",
      " 43  PaymentMethod_Bank transfer (automatic)  7043 non-null   uint8  \n",
      " 44  PaymentMethod_Credit card (automatic)    7043 non-null   uint8  \n",
      " 45  PaymentMethod_Electronic check           7043 non-null   uint8  \n",
      " 46  PaymentMethod_Mailed check               7043 non-null   uint8  \n",
      "dtypes: float64(2), int64(2), uint8(43)\n",
      "memory usage: 516.0 KB\n"
     ]
    }
   ],
   "source": [
    "# Lets have an overview of the new data after encoding\n",
    "\n",
    "df_enc.info()"
   ]
  },
  {
   "cell_type": "markdown",
   "id": "20d7441c",
   "metadata": {},
   "source": [
    "## Correlations\n",
    "\n",
    "- Correlations aid to identify relationships between variables."
   ]
  },
  {
   "cell_type": "code",
   "execution_count": 55,
   "id": "9b39984c",
   "metadata": {},
   "outputs": [
    {
     "data": {
      "text/plain": [
       "<AxesSubplot:>"
      ]
     },
     "execution_count": 55,
     "metadata": {},
     "output_type": "execute_result"
    },
    {
     "data": {
      "image/png": "[encoded data removed]",
      "text/plain": [
       "<Figure size 648x432 with 1 Axes>"
      ]
     },
     "metadata": {},
     "output_type": "display_data"
    }
   ],
   "source": [
    "# Let's explore the top 5 features positively correlated to \"Churn\"\n",
    "\n",
    "plt.figure(figsize=(9,6))\n",
    "\n",
    "df_enc.corr()['Churn'].sort_values(ascending = False)[1:6].plot(kind='bar')"
   ]
  },
  {
   "cell_type": "markdown",
   "id": "89fe9731",
   "metadata": {},
   "source": [
    "**From graph above, We note that;**\n",
    "\n",
    "- The *month to month contract* is the leading positively correlated feature to churn.\n",
    "\n",
    "- It is followed by having *no online security, no tech support, fibre optic internet service, and electronic check payment* method."
   ]
  },
  {
   "cell_type": "code",
   "execution_count": 56,
   "id": "e3783820",
   "metadata": {},
   "outputs": [
    {
     "data": {
      "text/plain": [
       "<AxesSubplot:>"
      ]
     },
     "execution_count": 56,
     "metadata": {},
     "output_type": "execute_result"
    },
    {
     "data": {
      "image/png": "[encoded data removed]",
      "text/plain": [
       "<Figure size 648x432 with 1 Axes>"
      ]
     },
     "metadata": {},
     "output_type": "display_data"
    }
   ],
   "source": [
    "# Let's explore the top 5 features negatively correlated to \"Churn\"\n",
    "\n",
    "plt.figure(figsize=(9,6))\n",
    "\n",
    "df_enc.corr()['Churn'].sort_values(ascending = False)[-5:].plot(kind='bar')"
   ]
  },
  {
   "cell_type": "markdown",
   "id": "603200bd",
   "metadata": {},
   "source": [
    "**From the chart above, we observe that,**\n",
    "\n",
    "- *Tenure* is the leading negatively correlated feature to churn. The longer the tenure period the less the possibility of churning.\n",
    "\n",
    "- *Two year contracts* comes second. Those with two year contracts are less susceptible to churning.\n",
    "\n",
    "- Customers *not subcribed to internet service* have low churn rate."
   ]
  },
  {
   "cell_type": "markdown",
   "id": "25b64b36",
   "metadata": {},
   "source": [
    "## Spliting the Dataset"
   ]
  },
  {
   "cell_type": "code",
   "execution_count": 58,
   "id": "a5c18adb",
   "metadata": {},
   "outputs": [],
   "source": [
    "# Spliting dataset into predictors (X) and target (y) variables\n",
    "\n",
    "X = df_enc.drop(['Churn'], axis=1)\n",
    "\n",
    "y = df_enc['Churn']"
   ]
  },
  {
   "cell_type": "markdown",
   "id": "b3bf638d",
   "metadata": {},
   "source": [
    "### Train Test Split"
   ]
  },
  {
   "cell_type": "code",
   "execution_count": 59,
   "id": "563715e3",
   "metadata": {},
   "outputs": [],
   "source": [
    "from sklearn.model_selection import train_test_split\n",
    "\n",
    "X_train, X_test, y_train, y_test = train_test_split(X, y, test_size = 0.2, stratify = y, random_state = 101)"
   ]
  },
  {
   "cell_type": "code",
   "execution_count": 60,
   "id": "8579e6e6",
   "metadata": {},
   "outputs": [
    {
     "name": "stdout",
     "output_type": "stream",
     "text": [
      "0    4139\n",
      "1    1495\n",
      "Name: Churn, dtype: int64\n",
      "0    1035\n",
      "1     374\n",
      "Name: Churn, dtype: int64\n"
     ]
    }
   ],
   "source": [
    "# Checking the split counts for the Churn outcomes\n",
    "\n",
    "print(y_train.value_counts())\n",
    "print(y_test.value_counts())"
   ]
  },
  {
   "cell_type": "markdown",
   "id": "7aec86aa",
   "metadata": {},
   "source": [
    "## Standardization"
   ]
  },
  {
   "cell_type": "code",
   "execution_count": 61,
   "id": "3cf4df68",
   "metadata": {},
   "outputs": [],
   "source": [
    "from sklearn.preprocessing import StandardScaler\n",
    "\n",
    "sc = StandardScaler()\n",
    "\n",
    "X_train_sc = sc.fit_transform(X_train)\n",
    "\n",
    "X_test_sc = sc.transform(X_test)"
   ]
  },
  {
   "cell_type": "markdown",
   "id": "e7b05fac",
   "metadata": {},
   "source": [
    "## Importing Modelling Libraries"
   ]
  },
  {
   "cell_type": "code",
   "execution_count": 114,
   "id": "4da676dd",
   "metadata": {},
   "outputs": [],
   "source": [
    "from sklearn.linear_model import LogisticRegression\n",
    "from sklearn.naive_bayes import GaussianNB\n",
    "from sklearn.tree import DecisionTreeClassifier\n",
    "from sklearn.ensemble import RandomForestClassifier, GradientBoostingClassifier\n",
    "from sklearn.model_selection import cross_val_score, KFold, GridSearchCV, cross_validate\n",
    "from sklearn.metrics import classification_report, roc_auc_score, roc_curve, accuracy_score \n",
    "from sklearn.metrics import precision_score, recall_score, f1_score, jaccard_score\n",
    "from sklearn.metrics import confusion_matrix,ConfusionMatrixDisplay\n",
    "\n",
    "from catboost import CatBoostClassifier\n",
    "from xgboost import XGBClassifier\n",
    "from lightgbm import LGBMClassifier\n",
    "\n",
    "import warnings\n",
    "warnings.filterwarnings('ignore')"
   ]
  },
  {
   "cell_type": "markdown",
   "id": "4679d633",
   "metadata": {},
   "source": [
    "## Model \n",
    "\n",
    "1. Run various models.\n",
    "2. Use cross validation to evaluate best model\n",
    "3. Conduct hyperparameter tuning of the best model using GridSearchCV"
   ]
  },
  {
   "cell_type": "code",
   "execution_count": 63,
   "id": "8ba1fddf",
   "metadata": {},
   "outputs": [],
   "source": [
    "# Creation of various models for comparison and selecting best model\n",
    "\n",
    "models = {\n",
    "    'Logistic regression' : LogisticRegression(random_state=100),\n",
    "    'Naive bayes' : GaussianNB(),\n",
    "    'Decision trees' : DecisionTreeClassifier(random_state=100),\n",
    "    'Random forest' : RandomForestClassifier(random_state=100),\n",
    "    'Gradient boosing' : GradientBoostingClassifier(random_state=100),\n",
    "    'Lightbgm' : LGBMClassifier(random_state=100),\n",
    "    'Xgboost' : XGBClassifier(random_state=100),\n",
    "    'Catboost' : CatBoostClassifier(verbose=0)\n",
    "}"
   ]
  },
  {
   "cell_type": "code",
   "execution_count": 106,
   "id": "f4504362",
   "metadata": {},
   "outputs": [
    {
     "name": "stdout",
     "output_type": "stream",
     "text": [
      "Logistic regression trained\n",
      "Naive bayes trained\n",
      "Decision trees trained\n",
      "Random forest trained\n",
      "Gradient boosing trained\n",
      "Lightbgm trained\n",
      "Xgboost trained\n",
      "Catboost trained\n"
     ]
    }
   ],
   "source": [
    "# Fitting the models and confirming trained\n",
    "\n",
    "for name, model in models.items():    \n",
    "    model.fit(X_train_sc, y_train) \n",
    "\n",
    "    print(f'{name} trained')"
   ]
  },
  {
   "cell_type": "markdown",
   "id": "43d76944",
   "metadata": {},
   "source": [
    "### Model Evaluation"
   ]
  },
  {
   "cell_type": "code",
   "execution_count": 66,
   "id": "5a1385c3",
   "metadata": {},
   "outputs": [],
   "source": [
    "# Evaluating the models by applying cross validation and using roc-auc\n",
    "\n",
    "scores = {}\n",
    "\n",
    "kf = KFold(n_splits= 10)\n",
    "\n",
    "for name, model in models.items():\n",
    "    score = cross_val_score(model, X_train_sc, y_train, scoring= 'roc_auc', cv= kf)\n",
    "    scores[name] = score"
   ]
  },
  {
   "cell_type": "code",
   "execution_count": 67,
   "id": "66016376",
   "metadata": {},
   "outputs": [
    {
     "name": "stdout",
     "output_type": "stream",
     "text": [
      "Logistic regression : 0.8503\n",
      "Naive bayes : 0.8208\n",
      "Decision trees : 0.6565\n",
      "Random forest : 0.8268\n",
      "Gradient boosing : 0.8533\n",
      "Lightbgm : 0.8436\n",
      "Xgboost : 0.8323\n",
      "Catboost : 0.8482\n"
     ]
    }
   ],
   "source": [
    "# Display scores for each model\n",
    "\n",
    "for name, score in scores.items():\n",
    "    print(f'{name} : {np.mean(score).round(4)}')"
   ]
  },
  {
   "cell_type": "markdown",
   "id": "6286da9b",
   "metadata": {},
   "source": [
    "**From the results above we realize that;**\n",
    "\n",
    "- Gradient boosting model (GBM) performs better than the other models.\n",
    "\n",
    "- We will use GridSearchCV for hyperparameter tuning."
   ]
  },
  {
   "cell_type": "markdown",
   "id": "5f946f0e",
   "metadata": {},
   "source": [
    "### Model Hyperparameter Tuning of Best Algorithm (GBM) using GridSearchCV"
   ]
  },
  {
   "cell_type": "code",
   "execution_count": 89,
   "id": "cbc4a986",
   "metadata": {},
   "outputs": [
    {
     "name": "stdout",
     "output_type": "stream",
     "text": [
      "Fitting 10 folds for each of 432 candidates, totalling 4320 fits\n"
     ]
    },
    {
     "data": {
      "text/plain": [
       "GridSearchCV(cv=KFold(n_splits=10, random_state=None, shuffle=False),\n",
       "             estimator=GradientBoostingClassifier(random_state=100), n_jobs=1,\n",
       "             param_grid={'learning_rate': [0.01, 0.1],\n",
       "                         'max_depth': range(5, 16, 2),\n",
       "                         'min_samples_split': range(200, 801, 200),\n",
       "                         'n_estimators': [20, 81, 10],\n",
       "                         'subsample': [1, 0.8, 0.6]},\n",
       "             scoring='roc_auc', verbose=True)"
      ]
     },
     "execution_count": 89,
     "metadata": {},
     "output_type": "execute_result"
    }
   ],
   "source": [
    "# Setting the parameters for Hyperparameter tuning of GBM\n",
    "\n",
    "gbm_params = {\"learning_rate\": [0.01, 0.1],\n",
    "              'max_depth':range(5,16,2),\n",
    "              'min_samples_split':range(200,801,200),\n",
    "              \"n_estimators\": [20, 81, 10],\n",
    "              \"subsample\": [1, 0.8, 0.6]}\n",
    "\n",
    "kf = KFold(n_splits= 10)\n",
    "\n",
    "gbm_model = GradientBoostingClassifier(random_state=100)\n",
    "\n",
    "gbm_trial_grid = GridSearchCV(gbm_model, gbm_params, scoring='roc_auc',n_jobs=1, cv=kf, verbose=True)\n",
    "\n",
    "gbm_trial_grid.fit(X_train_sc, y_train)"
   ]
  },
  {
   "cell_type": "code",
   "execution_count": 90,
   "id": "9b0efa08",
   "metadata": {},
   "outputs": [
    {
     "data": {
      "text/plain": [
       "({'learning_rate': 0.1,\n",
       "  'max_depth': 5,\n",
       "  'min_samples_split': 800,\n",
       "  'n_estimators': 81,\n",
       "  'subsample': 1},\n",
       " 0.8542035447161922)"
      ]
     },
     "execution_count": 90,
     "metadata": {},
     "output_type": "execute_result"
    }
   ],
   "source": [
    "# We now use the best parameters to obtain the best scores for the GBM model\n",
    "\n",
    "gbm_trial_grid.best_params_, gbm_trial_grid.best_score_"
   ]
  },
  {
   "cell_type": "markdown",
   "id": "c13fa8d6",
   "metadata": {},
   "source": [
    "**From the above results we notice that;**\n",
    "\n",
    "- The tuned GBM model has a slightly higher score (`85.42%`) than the untuned model (`85.33%`).\n",
    "\n",
    "- More tuning may assist to obtain a much better score.\n",
    "\n",
    "- For now, we will examine the prediction accuracy of the tuned GB models, as it is our best model."
   ]
  },
  {
   "cell_type": "code",
   "execution_count": 101,
   "id": "c4494032",
   "metadata": {
    "scrolled": true
   },
   "outputs": [
    {
     "name": "stdout",
     "output_type": "stream",
     "text": [
      "\n",
      "Model Report:\n",
      "Accuracy : 0.7963\n",
      "AUC Score (Test set): 0.826300\n"
     ]
    },
    {
     "data": {
      "text/plain": [
       "Text(0, 0.5, 'Feature Importance Score')"
      ]
     },
     "execution_count": 101,
     "metadata": {},
     "output_type": "execute_result"
    },
    {
     "data": {
      "image/png": "[encoded data removed]",
      "text/plain": [
       "<Figure size 432x288 with 1 Axes>"
      ]
     },
     "metadata": {},
     "output_type": "display_data"
    }
   ],
   "source": [
    "gbm_best_model = GradientBoostingClassifier(learning_rate=0.1, \n",
    "                                            max_depth=5, \n",
    "                                            min_samples_split=800, \n",
    "                                            n_estimators=81, \n",
    "                                            subsample=1)\n",
    "\n",
    "gbm_best_model.fit(X_train_sc, y_train)\n",
    "\n",
    "y_pred = gbm_best_model.predict(X_test_sc) # Computes the predicted value\n",
    "\n",
    "y_pred_prob = gbm_best_model.predict_proba(X_test_sc)[:,1] # Computes the probability of customer churning\n",
    "\n",
    "\n",
    "# Next we print the model's report\n",
    "\n",
    "print(\"\\nModel Report:\")\n",
    "print(\"Accuracy : %.4g\" % ((accuracy_score(y_test, y_pred)).round(4)))\n",
    "print(\"AUC Score (Test set): %f\" % ((roc_auc_score(y_test, y_pred_prob)).round(4)))\n",
    "\n",
    "\n",
    "# Lastly, we print the top ten most important features\n",
    "\n",
    "imp_feat = pd.Series(gbm_best_model.feature_importances_, X_test.columns).sort_values(ascending=False)[:10]\n",
    "imp_feat.plot(kind='bar', title='Top 10 Important Features')\n",
    "plt.ylabel('Feature Importance Score')"
   ]
  },
  {
   "cell_type": "markdown",
   "id": "7178e3f8",
   "metadata": {},
   "source": [
    "**From the above results we can observe that;**\n",
    "\n",
    "- The accuracy is `79.6%` and an AUC score of `82.6%`.\n",
    "\n",
    "**From the feature importance graph,**\n",
    "\n",
    "- Month to month contract is the leading factor influencing churning.\n",
    "    \n",
    "- The second factor is tenure, followed by total charges, fibre optic internet service and monthly charges.   \n"
   ]
  },
  {
   "cell_type": "code",
   "execution_count": 118,
   "id": "36869308",
   "metadata": {},
   "outputs": [
    {
     "data": {
      "image/png": "[encoded data removed]",
      "text/plain": [
       "<Figure size 432x288 with 1 Axes>"
      ]
     },
     "metadata": {},
     "output_type": "display_data"
    }
   ],
   "source": [
    "# Checking the ROC Curve of the model\n",
    "\n",
    "fpr, tpr, thresholds = roc_curve(y_test, y_pred_prob)\n",
    "\n",
    "plt.figure(figsize=(6,4))\n",
    "plt.plot(fpr, tpr, linewidth=2, color= '#0384fc')\n",
    "plt.plot([0,1], [0,1], 'r--' )\n",
    "plt.title('ROC Curve')\n",
    "plt.xlabel('False Positive Rate')\n",
    "plt.ylabel('True Positive Rate')\n",
    "\n",
    "plt.show()"
   ]
  },
  {
   "cell_type": "code",
   "execution_count": 115,
   "id": "9622e17d",
   "metadata": {},
   "outputs": [
    {
     "data": {
      "image/png": "[encoded data removed]",
      "text/plain": [
       "<Figure size 432x288 with 2 Axes>"
      ]
     },
     "metadata": {},
     "output_type": "display_data"
    },
    {
     "name": "stdout",
     "output_type": "stream",
     "text": [
      "              precision    recall  f1-score   support\n",
      "\n",
      "           0       0.84      0.88      0.86      1035\n",
      "           1       0.61      0.52      0.56       374\n",
      "\n",
      "    accuracy                           0.78      1409\n",
      "   macro avg       0.72      0.70      0.71      1409\n",
      "weighted avg       0.77      0.78      0.78      1409\n",
      "\n"
     ]
    }
   ],
   "source": [
    "# Let's also explore the confusion matrix\n",
    "\n",
    "confusion_matrix = confusion_matrix(y_test, y_pred)\n",
    "\n",
    "cm_display = ConfusionMatrixDisplay(confusion_matrix = confusion_matrix, display_labels = [False, True])\n",
    "\n",
    "cm_display.plot()\n",
    "plt.show()\n",
    "\n",
    "print(classification_report(y_test,y_pred))"
   ]
  },
  {
   "cell_type": "markdown",
   "id": "618fa46b",
   "metadata": {},
   "source": [
    "**From the above chart, we note that;**\n",
    "\n",
    "- `179` cases are predicted as false and they are true.\n",
    "\n",
    "- `127` cases are predicted as true and they are false.\n",
    "\n",
    "- `908` cases are correctly predicted as false.\n",
    "\n",
    "- `195` cases are correctly predicted as true."
   ]
  },
  {
   "cell_type": "code",
   "execution_count": 107,
   "id": "23e904fe",
   "metadata": {},
   "outputs": [
    {
     "data": {
      "image/png": "[encoded data removed]",
      "text/plain": [
       "<Figure size 432x288 with 1 Axes>"
      ]
     },
     "metadata": {},
     "output_type": "display_data"
    }
   ],
   "source": [
    "# Let's explore the distribution of the predicted probabilities\n",
    "\n",
    "sns.histplot(y_pred_prob, bins= 10, color= '#0384fc')\n",
    "plt.title('Distribution of Predicted Probabilities of Customer Churn')\n",
    "plt.xlabel('Predicted probabilities of Customer Churn')\n",
    "plt.show()"
   ]
  },
  {
   "cell_type": "code",
   "execution_count": 116,
   "id": "a2418db9",
   "metadata": {},
   "outputs": [
    {
     "data": {
      "text/html": [
       "<div>\n",
       "<style scoped>\n",
       "    .dataframe tbody tr th:only-of-type {\n",
       "        vertical-align: middle;\n",
       "    }\n",
       "\n",
       "    .dataframe tbody tr th {\n",
       "        vertical-align: top;\n",
       "    }\n",
       "\n",
       "    .dataframe thead th {\n",
       "        text-align: right;\n",
       "    }\n",
       "</style>\n",
       "<table border=\"1\" class=\"dataframe\">\n",
       "  <thead>\n",
       "    <tr style=\"text-align: right;\">\n",
       "      <th></th>\n",
       "      <th>Customer Churn Prediction</th>\n",
       "      <th>Probability of Customer Churning</th>\n",
       "    </tr>\n",
       "  </thead>\n",
       "  <tbody>\n",
       "    <tr>\n",
       "      <th>0</th>\n",
       "      <td>0</td>\n",
       "      <td>0.055956</td>\n",
       "    </tr>\n",
       "    <tr>\n",
       "      <th>1</th>\n",
       "      <td>0</td>\n",
       "      <td>0.203464</td>\n",
       "    </tr>\n",
       "    <tr>\n",
       "      <th>2</th>\n",
       "      <td>1</td>\n",
       "      <td>0.624763</td>\n",
       "    </tr>\n",
       "    <tr>\n",
       "      <th>3</th>\n",
       "      <td>0</td>\n",
       "      <td>0.077904</td>\n",
       "    </tr>\n",
       "    <tr>\n",
       "      <th>4</th>\n",
       "      <td>0</td>\n",
       "      <td>0.048392</td>\n",
       "    </tr>\n",
       "  </tbody>\n",
       "</table>\n",
       "</div>"
      ],
      "text/plain": [
       "   Customer Churn Prediction  Probability of Customer Churning\n",
       "0                          0                          0.055956\n",
       "1                          0                          0.203464\n",
       "2                          1                          0.624763\n",
       "3                          0                          0.077904\n",
       "4                          0                          0.048392"
      ]
     },
     "execution_count": 116,
     "metadata": {},
     "output_type": "execute_result"
    }
   ],
   "source": [
    "# In order to take appropriate action we need to combine our predicted values to original data.\n",
    "\n",
    "predictions = pd.DataFrame({'Customer Churn Prediction': y_pred, 'Probability of Customer Churning': y_pred_prob})\n",
    "predictions.head()"
   ]
  },
  {
   "cell_type": "code",
   "execution_count": 117,
   "id": "c3598fa9",
   "metadata": {},
   "outputs": [
    {
     "data": {
      "text/html": [
       "<div>\n",
       "<style scoped>\n",
       "    .dataframe tbody tr th:only-of-type {\n",
       "        vertical-align: middle;\n",
       "    }\n",
       "\n",
       "    .dataframe tbody tr th {\n",
       "        vertical-align: top;\n",
       "    }\n",
       "\n",
       "    .dataframe thead th {\n",
       "        text-align: right;\n",
       "    }\n",
       "</style>\n",
       "<table border=\"1\" class=\"dataframe\">\n",
       "  <thead>\n",
       "    <tr style=\"text-align: right;\">\n",
       "      <th></th>\n",
       "      <th>customerID</th>\n",
       "      <th>gender</th>\n",
       "      <th>SeniorCitizen</th>\n",
       "      <th>Partner</th>\n",
       "      <th>Dependents</th>\n",
       "      <th>tenure</th>\n",
       "      <th>PhoneService</th>\n",
       "      <th>MultipleLines</th>\n",
       "      <th>InternetService</th>\n",
       "      <th>OnlineSecurity</th>\n",
       "      <th>...</th>\n",
       "      <th>StreamingTV</th>\n",
       "      <th>StreamingMovies</th>\n",
       "      <th>Contract</th>\n",
       "      <th>PaperlessBilling</th>\n",
       "      <th>PaymentMethod</th>\n",
       "      <th>MonthlyCharges</th>\n",
       "      <th>TotalCharges</th>\n",
       "      <th>Churn</th>\n",
       "      <th>Customer Churn Prediction</th>\n",
       "      <th>Probability of Customer Churning</th>\n",
       "    </tr>\n",
       "  </thead>\n",
       "  <tbody>\n",
       "    <tr>\n",
       "      <th>0</th>\n",
       "      <td>7590-VHVEG</td>\n",
       "      <td>Female</td>\n",
       "      <td>0</td>\n",
       "      <td>Yes</td>\n",
       "      <td>No</td>\n",
       "      <td>1</td>\n",
       "      <td>No</td>\n",
       "      <td>No phone service</td>\n",
       "      <td>DSL</td>\n",
       "      <td>No</td>\n",
       "      <td>...</td>\n",
       "      <td>No</td>\n",
       "      <td>No</td>\n",
       "      <td>Month-to-month</td>\n",
       "      <td>Yes</td>\n",
       "      <td>Electronic check</td>\n",
       "      <td>29.85</td>\n",
       "      <td>29.85</td>\n",
       "      <td>0</td>\n",
       "      <td>0.0</td>\n",
       "      <td>0.055956</td>\n",
       "    </tr>\n",
       "    <tr>\n",
       "      <th>1</th>\n",
       "      <td>5575-GNVDE</td>\n",
       "      <td>Male</td>\n",
       "      <td>0</td>\n",
       "      <td>No</td>\n",
       "      <td>No</td>\n",
       "      <td>34</td>\n",
       "      <td>Yes</td>\n",
       "      <td>No</td>\n",
       "      <td>DSL</td>\n",
       "      <td>Yes</td>\n",
       "      <td>...</td>\n",
       "      <td>No</td>\n",
       "      <td>No</td>\n",
       "      <td>One year</td>\n",
       "      <td>No</td>\n",
       "      <td>Mailed check</td>\n",
       "      <td>56.95</td>\n",
       "      <td>1889.50</td>\n",
       "      <td>0</td>\n",
       "      <td>0.0</td>\n",
       "      <td>0.203464</td>\n",
       "    </tr>\n",
       "    <tr>\n",
       "      <th>2</th>\n",
       "      <td>3668-QPYBK</td>\n",
       "      <td>Male</td>\n",
       "      <td>0</td>\n",
       "      <td>No</td>\n",
       "      <td>No</td>\n",
       "      <td>2</td>\n",
       "      <td>Yes</td>\n",
       "      <td>No</td>\n",
       "      <td>DSL</td>\n",
       "      <td>Yes</td>\n",
       "      <td>...</td>\n",
       "      <td>No</td>\n",
       "      <td>No</td>\n",
       "      <td>Month-to-month</td>\n",
       "      <td>Yes</td>\n",
       "      <td>Mailed check</td>\n",
       "      <td>53.85</td>\n",
       "      <td>108.15</td>\n",
       "      <td>1</td>\n",
       "      <td>1.0</td>\n",
       "      <td>0.624763</td>\n",
       "    </tr>\n",
       "    <tr>\n",
       "      <th>3</th>\n",
       "      <td>7795-CFOCW</td>\n",
       "      <td>Male</td>\n",
       "      <td>0</td>\n",
       "      <td>No</td>\n",
       "      <td>No</td>\n",
       "      <td>45</td>\n",
       "      <td>No</td>\n",
       "      <td>No phone service</td>\n",
       "      <td>DSL</td>\n",
       "      <td>Yes</td>\n",
       "      <td>...</td>\n",
       "      <td>No</td>\n",
       "      <td>No</td>\n",
       "      <td>One year</td>\n",
       "      <td>No</td>\n",
       "      <td>Bank transfer (automatic)</td>\n",
       "      <td>42.30</td>\n",
       "      <td>1840.75</td>\n",
       "      <td>0</td>\n",
       "      <td>0.0</td>\n",
       "      <td>0.077904</td>\n",
       "    </tr>\n",
       "    <tr>\n",
       "      <th>4</th>\n",
       "      <td>9237-HQITU</td>\n",
       "      <td>Female</td>\n",
       "      <td>0</td>\n",
       "      <td>No</td>\n",
       "      <td>No</td>\n",
       "      <td>2</td>\n",
       "      <td>Yes</td>\n",
       "      <td>No</td>\n",
       "      <td>Fiber optic</td>\n",
       "      <td>No</td>\n",
       "      <td>...</td>\n",
       "      <td>No</td>\n",
       "      <td>No</td>\n",
       "      <td>Month-to-month</td>\n",
       "      <td>Yes</td>\n",
       "      <td>Electronic check</td>\n",
       "      <td>70.70</td>\n",
       "      <td>151.65</td>\n",
       "      <td>1</td>\n",
       "      <td>0.0</td>\n",
       "      <td>0.048392</td>\n",
       "    </tr>\n",
       "  </tbody>\n",
       "</table>\n",
       "<p>5 rows × 23 columns</p>\n",
       "</div>"
      ],
      "text/plain": [
       "   customerID  gender SeniorCitizen Partner Dependents  tenure PhoneService  \\\n",
       "0  7590-VHVEG  Female             0     Yes         No       1           No   \n",
       "1  5575-GNVDE    Male             0      No         No      34          Yes   \n",
       "2  3668-QPYBK    Male             0      No         No       2          Yes   \n",
       "3  7795-CFOCW    Male             0      No         No      45           No   \n",
       "4  9237-HQITU  Female             0      No         No       2          Yes   \n",
       "\n",
       "      MultipleLines InternetService OnlineSecurity  ... StreamingTV  \\\n",
       "0  No phone service             DSL             No  ...          No   \n",
       "1                No             DSL            Yes  ...          No   \n",
       "2                No             DSL            Yes  ...          No   \n",
       "3  No phone service             DSL            Yes  ...          No   \n",
       "4                No     Fiber optic             No  ...          No   \n",
       "\n",
       "  StreamingMovies        Contract PaperlessBilling              PaymentMethod  \\\n",
       "0              No  Month-to-month              Yes           Electronic check   \n",
       "1              No        One year               No               Mailed check   \n",
       "2              No  Month-to-month              Yes               Mailed check   \n",
       "3              No        One year               No  Bank transfer (automatic)   \n",
       "4              No  Month-to-month              Yes           Electronic check   \n",
       "\n",
       "  MonthlyCharges TotalCharges Churn  Customer Churn Prediction  \\\n",
       "0          29.85        29.85     0                        0.0   \n",
       "1          56.95      1889.50     0                        0.0   \n",
       "2          53.85       108.15     1                        1.0   \n",
       "3          42.30      1840.75     0                        0.0   \n",
       "4          70.70       151.65     1                        0.0   \n",
       "\n",
       "   Probability of Customer Churning  \n",
       "0                          0.055956  \n",
       "1                          0.203464  \n",
       "2                          0.624763  \n",
       "3                          0.077904  \n",
       "4                          0.048392  \n",
       "\n",
       "[5 rows x 23 columns]"
      ]
     },
     "execution_count": 117,
     "metadata": {},
     "output_type": "execute_result"
    }
   ],
   "source": [
    "# Lets combine the predictions to the original dataframe\n",
    "\n",
    "final_df = pd.concat([df.reset_index(drop = True), predictions], axis = 1)\n",
    "\n",
    "final_df.head()"
   ]
  },
  {
   "cell_type": "markdown",
   "id": "82aa6bb5",
   "metadata": {},
   "source": [
    "### Project Summary\n",
    "\n",
    "- Combining the discoveries observed in the descriptive statistics section, the correlations section, and finally,the modeling section provides the company with insightful guidelines on which features to focus on to reduce or manage the churn rate."
   ]
  }
 ],
 "metadata": {
  "kernelspec": {
   "display_name": "Python 3 (ipykernel)",
   "language": "python",
   "name": "python3"
  },
  "language_info": {
   "codemirror_mode": {
    "name": "ipython",
    "version": 3
   },
   "file_extension": ".py",
   "mimetype": "text/x-python",
   "name": "python",
   "nbconvert_exporter": "python",
   "pygments_lexer": "ipython3",
   "version": "3.9.12"
  }
 },
 "nbformat": 4,
 "nbformat_minor": 5
}
